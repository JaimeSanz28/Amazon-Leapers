{
 "cells": [
  {
   "cell_type": "markdown",
   "metadata": {},
   "source": [
    "# Machine Learning Models 🤖"
   ]
  },
  {
   "cell_type": "code",
   "execution_count": null,
   "metadata": {},
   "outputs": [],
   "source": [
    "import pandas as pd\n",
    "import numpy as np\n",
    "import seaborn as sns\n",
    "from sklearn.model_selection import train_test_split\n",
    "import matplotlib.pyplot as plt\n",
    "import math\n",
    "from sklearn.metrics import mean_squared_error\n",
    "from sklearn.model_selection import GridSearchCV\n",
    "\n",
    "from sklearn.ensemble import GradientBoostingClassifier, ExtraTreesClassifier, RandomForestClassifier \n",
    "from sklearn.tree import DecisionTreeClassifier\n",
    "from sklearn.experimental import enable_hist_gradient_boosting  \n",
    "from sklearn.ensemble import HistGradientBoostingClassifier\n",
    "from sklearn.metrics import accuracy_score, precision_score, recall_score, f1_score"
   ]
  },
  {
   "cell_type": "code",
   "execution_count": 4,
   "metadata": {},
   "outputs": [
    {
     "data": {
      "text/html": [
       "<div>\n",
       "<style scoped>\n",
       "    .dataframe tbody tr th:only-of-type {\n",
       "        vertical-align: middle;\n",
       "    }\n",
       "\n",
       "    .dataframe tbody tr th {\n",
       "        vertical-align: top;\n",
       "    }\n",
       "\n",
       "    .dataframe thead th {\n",
       "        text-align: right;\n",
       "    }\n",
       "</style>\n",
       "<table border=\"1\" class=\"dataframe\">\n",
       "  <thead>\n",
       "    <tr style=\"text-align: right;\">\n",
       "      <th></th>\n",
       "      <th>F. Transform</th>\n",
       "      <th>Tag</th>\n",
       "    </tr>\n",
       "  </thead>\n",
       "  <tbody>\n",
       "    <tr>\n",
       "      <th>0</th>\n",
       "      <td>18001.000000</td>\n",
       "      <td>1</td>\n",
       "    </tr>\n",
       "    <tr>\n",
       "      <th>1</th>\n",
       "      <td>2077.438012</td>\n",
       "      <td>1</td>\n",
       "    </tr>\n",
       "    <tr>\n",
       "      <th>2</th>\n",
       "      <td>4324.447678</td>\n",
       "      <td>1</td>\n",
       "    </tr>\n",
       "    <tr>\n",
       "      <th>3</th>\n",
       "      <td>7462.545756</td>\n",
       "      <td>1</td>\n",
       "    </tr>\n",
       "    <tr>\n",
       "      <th>4</th>\n",
       "      <td>8746.229687</td>\n",
       "      <td>1</td>\n",
       "    </tr>\n",
       "  </tbody>\n",
       "</table>\n",
       "</div>"
      ],
      "text/plain": [
       "   F. Transform  Tag\n",
       "0  18001.000000    1\n",
       "1   2077.438012    1\n",
       "2   4324.447678    1\n",
       "3   7462.545756    1\n",
       "4   8746.229687    1"
      ]
     },
     "execution_count": 4,
     "metadata": {},
     "output_type": "execute_result"
    }
   ],
   "source": [
    "train = pd.read_csv('../output/fam_df.csv', index_col=0)\n",
    "train.head()"
   ]
  },
  {
   "cell_type": "code",
   "execution_count": 5,
   "metadata": {},
   "outputs": [],
   "source": [
    "X = train.drop(columns=[\"Tag\"])\n",
    "y = train[\"Tag\"]\n",
    "\n",
    "X_train, X_test, y_train, y_test = train_test_split(X, y, test_size=0.2)"
   ]
  },
  {
   "cell_type": "code",
   "execution_count": 6,
   "metadata": {},
   "outputs": [],
   "source": [
    "models = {\n",
    "    \"forest200\": RandomForestClassifier(n_estimators=200),\n",
    "    \"boosting_950\": GradientBoostingClassifier(),\n",
    "    \"extra_300\":ExtraTreesClassifier(n_estimators=300),\n",
    "    \"hist\": HistGradientBoostingClassifier(),\n",
    "    \"decision_tree\": DecisionTreeClassifier(),\n",
    "}"
   ]
  },
  {
   "cell_type": "code",
   "execution_count": 7,
   "metadata": {},
   "outputs": [
    {
     "name": "stdout",
     "output_type": "stream",
     "text": [
      "Starting training\n",
      "Training forest200...\n",
      "Training complete\n",
      "Starting training\n",
      "Training boosting_950...\n",
      "Training complete\n",
      "Starting training\n",
      "Training extra_300...\n",
      "Training complete\n",
      "Starting training\n",
      "Training hist...\n",
      "Training complete\n",
      "Starting training\n",
      "Training decision_tree...\n",
      "Training complete\n"
     ]
    }
   ],
   "source": [
    "for name, model  in models.items():\n",
    "    print(f\"Starting training\")\n",
    "    print(f\"Training {name}...\")\n",
    "    model.fit(X_train, y_train)\n",
    "    print(f\"Training complete\")"
   ]
  },
  {
   "cell_type": "code",
   "execution_count": 12,
   "metadata": {},
   "outputs": [
    {
     "name": "stdout",
     "output_type": "stream",
     "text": [
      "Evaluating model forest200\n",
      "\t RMSE: 0.4701\n",
      "\t Accuracy: 0.8986\n",
      "\t Precision: 0.8986\n",
      "\t Recall: 0.8986\n",
      "\t F1Score: 0.8986\n",
      "Evaluating model boosting_950\n",
      "\t RMSE: 0.8972\n",
      "\t Accuracy: 0.5883\n",
      "\t Precision: 0.5872\n",
      "\t Recall: 0.5883\n",
      "\t F1Score: 0.5871\n",
      "Evaluating model extra_300\n",
      "\t RMSE: 0.4708\n",
      "\t Accuracy: 0.8983\n",
      "\t Precision: 0.8983\n",
      "\t Recall: 0.8983\n",
      "\t F1Score: 0.8983\n",
      "Evaluating model hist\n",
      "\t RMSE: 0.9\n",
      "\t Accuracy: 0.5874\n",
      "\t Precision: 0.5863\n",
      "\t Recall: 0.5874\n",
      "\t F1Score: 0.5863\n",
      "Evaluating model decision_tree\n",
      "\t RMSE: 0.47\n",
      "\t Accuracy: 0.8987\n",
      "\t Precision: 0.8986\n",
      "\t Recall: 0.8987\n",
      "\t F1Score: 0.8986\n"
     ]
    }
   ],
   "source": [
    "printMetric = lambda label,value:print(f\"\\t {label}: {round(value,4)}\")\n",
    "\n",
    "for name,m in models.items():\n",
    "    y_pred = m.predict(X_test)\n",
    "    print(f\"Evaluating model {name}\")\n",
    "    printMetric(\"RMSE\",math.sqrt(mean_squared_error(y_test, y_pred)))\n",
    "    printMetric(\"Accuracy\",accuracy_score(y_test, y_pred))\n",
    "    printMetric(\"Precision\",precision_score(y_test, y_pred, average='weighted'))\n",
    "    printMetric(\"Recall\",recall_score(y_test, y_pred, average='weighted'))\n",
    "    printMetric(\"F1Score\",f1_score(y_test, y_pred, average='weighted'))"
   ]
  },
  {
   "cell_type": "markdown",
   "metadata": {},
   "source": [
    "## Making Predictions"
   ]
  },
  {
   "cell_type": "code",
   "execution_count": null,
   "metadata": {},
   "outputs": [],
   "source": [
    "from sklearn.linear_model import LinearRegression"
   ]
  },
  {
   "cell_type": "code",
   "execution_count": null,
   "metadata": {},
   "outputs": [],
   "source": [
    "forest200_model = linear_model.LinearRegression()"
   ]
  },
  {
   "cell_type": "code",
   "execution_count": null,
   "metadata": {},
   "outputs": [],
   "source": [
    "fitted_model = auto_model.fit(X_train, y_train)\n",
    "print(\"intercept\", fitted_model.intercept_) \n",
    "print(\"coefficients\", fitted_model.coef_)"
   ]
  },
  {
   "cell_type": "code",
   "execution_count": null,
   "metadata": {},
   "outputs": [],
   "source": [
    "x = fitted_model.predict(X_test)"
   ]
  },
  {
   "cell_type": "code",
   "execution_count": null,
   "metadata": {},
   "outputs": [],
   "source": [
    "y_test"
   ]
  },
  {
   "cell_type": "code",
   "execution_count": null,
   "metadata": {},
   "outputs": [],
   "source": [
    "import pandas as pd \n",
    "\n",
    "predictionAuto_df = pd.DataFrame({'prediction': x,\n",
    "                                'ground_truth': y_test,\n",
    "                             'diff': x-y_test })\n",
    "\n",
    "predictionAuto_df.head()"
   ]
  }
 ],
 "metadata": {
  "kernelspec": {
   "display_name": "Python 3",
   "language": "python",
   "name": "python3"
  },
  "language_info": {
   "codemirror_mode": {
    "name": "ipython",
    "version": 3
   },
   "file_extension": ".py",
   "mimetype": "text/x-python",
   "name": "python",
   "nbconvert_exporter": "python",
   "pygments_lexer": "ipython3",
   "version": "3.8.5"
  }
 },
 "nbformat": 4,
 "nbformat_minor": 4
}
