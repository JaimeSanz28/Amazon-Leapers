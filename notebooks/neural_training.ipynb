{
 "cells": [
  {
   "cell_type": "markdown",
   "metadata": {},
   "source": [
    "# Neural Network Training 🧠🏋🏻"
   ]
  },
  {
   "cell_type": "code",
   "execution_count": 1,
   "metadata": {},
   "outputs": [],
   "source": [
    "import pickle\n",
    "import pandas as pd\n",
    "import numpy as np\n",
    "import pydot as pyd\n",
    "import seaborn as sns\n",
    "import matplotlib.pyplot as plt\n",
    "from sklearn.model_selection import train_test_split\n",
    "import tensorflow as tf\n",
    "from tensorflow import keras\n",
    "from tensorflow.keras import layers\n",
    "from keras.utils import np_utils\n",
    "from keras.models import Sequential\n",
    "from keras.layers import Dense, Dropout, Flatten\n",
    "from keras.layers import LSTM\n",
    "from keras import models\n",
    "from keras.layers.normalization import BatchNormalization\n",
    "from keras.models import model_from_json\n",
    "from sklearn import preprocessing\n",
    "from sklearn.metrics import confusion_matrix\n",
    "import json"
   ]
  },
  {
   "cell_type": "markdown",
   "metadata": {},
   "source": [
    "----"
   ]
  },
  {
   "cell_type": "markdown",
   "metadata": {},
   "source": [
    "## Regular DataFrame"
   ]
  },
  {
   "cell_type": "code",
   "execution_count": 27,
   "metadata": {},
   "outputs": [
    {
     "data": {
      "text/html": [
       "<div>\n",
       "<style scoped>\n",
       "    .dataframe tbody tr th:only-of-type {\n",
       "        vertical-align: middle;\n",
       "    }\n",
       "\n",
       "    .dataframe tbody tr th {\n",
       "        vertical-align: top;\n",
       "    }\n",
       "\n",
       "    .dataframe thead th {\n",
       "        text-align: right;\n",
       "    }\n",
       "</style>\n",
       "<table border=\"1\" class=\"dataframe\">\n",
       "  <thead>\n",
       "    <tr style=\"text-align: right;\">\n",
       "      <th></th>\n",
       "      <th>F.Transform</th>\n",
       "      <th>Tag</th>\n",
       "    </tr>\n",
       "  </thead>\n",
       "  <tbody>\n",
       "    <tr>\n",
       "      <th>0</th>\n",
       "      <td>[214.0, 1468.2663139035296, 1354.9901292253478...</td>\n",
       "      <td>1</td>\n",
       "    </tr>\n",
       "    <tr>\n",
       "      <th>1</th>\n",
       "      <td>[2884.0, 28338.15576414532, 62698.33809773314,...</td>\n",
       "      <td>1</td>\n",
       "    </tr>\n",
       "    <tr>\n",
       "      <th>2</th>\n",
       "      <td>[231582.0, 274082.53149146156, 349585.41389145...</td>\n",
       "      <td>1</td>\n",
       "    </tr>\n",
       "    <tr>\n",
       "      <th>3</th>\n",
       "      <td>[79700.0, 102571.46322235715, 153200.915277075...</td>\n",
       "      <td>1</td>\n",
       "    </tr>\n",
       "    <tr>\n",
       "      <th>4</th>\n",
       "      <td>[63870.0, 52903.555252298946, 141644.395098856...</td>\n",
       "      <td>1</td>\n",
       "    </tr>\n",
       "    <tr>\n",
       "      <th>...</th>\n",
       "      <td>...</td>\n",
       "      <td>...</td>\n",
       "    </tr>\n",
       "    <tr>\n",
       "      <th>1443</th>\n",
       "      <td>[583.0, 15302.869133939248, 8141.018024000418,...</td>\n",
       "      <td>4</td>\n",
       "    </tr>\n",
       "    <tr>\n",
       "      <th>1444</th>\n",
       "      <td>[7528.0, 36567.48880158042, 32709.202174082795...</td>\n",
       "      <td>4</td>\n",
       "    </tr>\n",
       "    <tr>\n",
       "      <th>1445</th>\n",
       "      <td>[57975.0, 49892.81312863944, 28033.09150727976...</td>\n",
       "      <td>4</td>\n",
       "    </tr>\n",
       "    <tr>\n",
       "      <th>1446</th>\n",
       "      <td>[11773.0, 12848.633686627703, 17174.7713207563...</td>\n",
       "      <td>4</td>\n",
       "    </tr>\n",
       "    <tr>\n",
       "      <th>1447</th>\n",
       "      <td>[9477.0, 7174.07567038514, 14996.304654811245,...</td>\n",
       "      <td>4</td>\n",
       "    </tr>\n",
       "  </tbody>\n",
       "</table>\n",
       "<p>1448 rows × 2 columns</p>\n",
       "</div>"
      ],
      "text/plain": [
       "                                            F.Transform  Tag\n",
       "0     [214.0, 1468.2663139035296, 1354.9901292253478...    1\n",
       "1     [2884.0, 28338.15576414532, 62698.33809773314,...    1\n",
       "2     [231582.0, 274082.53149146156, 349585.41389145...    1\n",
       "3     [79700.0, 102571.46322235715, 153200.915277075...    1\n",
       "4     [63870.0, 52903.555252298946, 141644.395098856...    1\n",
       "...                                                 ...  ...\n",
       "1443  [583.0, 15302.869133939248, 8141.018024000418,...    4\n",
       "1444  [7528.0, 36567.48880158042, 32709.202174082795...    4\n",
       "1445  [57975.0, 49892.81312863944, 28033.09150727976...    4\n",
       "1446  [11773.0, 12848.633686627703, 17174.7713207563...    4\n",
       "1447  [9477.0, 7174.07567038514, 14996.304654811245,...    4\n",
       "\n",
       "[1448 rows x 2 columns]"
      ]
     },
     "execution_count": 27,
     "metadata": {},
     "output_type": "execute_result"
    }
   ],
   "source": [
    "train = pd.read_pickle('../output/fam_df.csv')\n",
    "train"
   ]
  },
  {
   "cell_type": "code",
   "execution_count": 3,
   "metadata": {},
   "outputs": [
    {
     "data": {
      "text/html": [
       "<div>\n",
       "<style scoped>\n",
       "    .dataframe tbody tr th:only-of-type {\n",
       "        vertical-align: middle;\n",
       "    }\n",
       "\n",
       "    .dataframe tbody tr th {\n",
       "        vertical-align: top;\n",
       "    }\n",
       "\n",
       "    .dataframe thead th {\n",
       "        text-align: right;\n",
       "    }\n",
       "</style>\n",
       "<table border=\"1\" class=\"dataframe\">\n",
       "  <thead>\n",
       "    <tr style=\"text-align: right;\">\n",
       "      <th></th>\n",
       "      <th>F.Transform</th>\n",
       "      <th>Tag</th>\n",
       "    </tr>\n",
       "  </thead>\n",
       "  <tbody>\n",
       "    <tr>\n",
       "      <th>0</th>\n",
       "      <td>[214.0, 1468.2663139035296, 1354.9901292253478...</td>\n",
       "      <td>1</td>\n",
       "    </tr>\n",
       "    <tr>\n",
       "      <th>1</th>\n",
       "      <td>[2884.0, 28338.15576414532, 62698.33809773314,...</td>\n",
       "      <td>1</td>\n",
       "    </tr>\n",
       "    <tr>\n",
       "      <th>2</th>\n",
       "      <td>[231582.0, 274082.53149146156, 349585.41389145...</td>\n",
       "      <td>1</td>\n",
       "    </tr>\n",
       "    <tr>\n",
       "      <th>3</th>\n",
       "      <td>[79700.0, 102571.46322235715, 153200.915277075...</td>\n",
       "      <td>1</td>\n",
       "    </tr>\n",
       "    <tr>\n",
       "      <th>4</th>\n",
       "      <td>[63870.0, 52903.555252298946, 141644.395098856...</td>\n",
       "      <td>1</td>\n",
       "    </tr>\n",
       "  </tbody>\n",
       "</table>\n",
       "</div>"
      ],
      "text/plain": [
       "                                         F.Transform  Tag\n",
       "0  [214.0, 1468.2663139035296, 1354.9901292253478...    1\n",
       "1  [2884.0, 28338.15576414532, 62698.33809773314,...    1\n",
       "2  [231582.0, 274082.53149146156, 349585.41389145...    1\n",
       "3  [79700.0, 102571.46322235715, 153200.915277075...    1\n",
       "4  [63870.0, 52903.555252298946, 141644.395098856...    1"
      ]
     },
     "execution_count": 3,
     "metadata": {},
     "output_type": "execute_result"
    }
   ],
   "source": [
    "buf_train = pd.read_pickle('../output/fam_df_buf.csv')\n",
    "buf_train.head()"
   ]
  },
  {
   "cell_type": "code",
   "execution_count": 4,
   "metadata": {},
   "outputs": [
    {
     "data": {
      "text/html": [
       "<div>\n",
       "<style scoped>\n",
       "    .dataframe tbody tr th:only-of-type {\n",
       "        vertical-align: middle;\n",
       "    }\n",
       "\n",
       "    .dataframe tbody tr th {\n",
       "        vertical-align: top;\n",
       "    }\n",
       "\n",
       "    .dataframe thead th {\n",
       "        text-align: right;\n",
       "    }\n",
       "</style>\n",
       "<table border=\"1\" class=\"dataframe\">\n",
       "  <thead>\n",
       "    <tr style=\"text-align: right;\">\n",
       "      <th></th>\n",
       "      <th>F.Transform</th>\n",
       "      <th>Tag</th>\n",
       "    </tr>\n",
       "  </thead>\n",
       "  <tbody>\n",
       "    <tr>\n",
       "      <th>0</th>\n",
       "      <td>[293595.0, 304988.4303126547, 362397.898872967...</td>\n",
       "      <td>3</td>\n",
       "    </tr>\n",
       "    <tr>\n",
       "      <th>1</th>\n",
       "      <td>[86658.0, 129724.50928813031, 162017.609968094...</td>\n",
       "      <td>3</td>\n",
       "    </tr>\n",
       "    <tr>\n",
       "      <th>2</th>\n",
       "      <td>[1281.0, 4419.925618996195, 17939.362311554847...</td>\n",
       "      <td>3</td>\n",
       "    </tr>\n",
       "    <tr>\n",
       "      <th>3</th>\n",
       "      <td>[96639.0, 22316.930795543907, 32249.5689638383...</td>\n",
       "      <td>3</td>\n",
       "    </tr>\n",
       "    <tr>\n",
       "      <th>4</th>\n",
       "      <td>[179760.0, 229731.08867416185, 199311.15093873...</td>\n",
       "      <td>3</td>\n",
       "    </tr>\n",
       "  </tbody>\n",
       "</table>\n",
       "</div>"
      ],
      "text/plain": [
       "                                         F.Transform  Tag\n",
       "0  [293595.0, 304988.4303126547, 362397.898872967...    3\n",
       "1  [86658.0, 129724.50928813031, 162017.609968094...    3\n",
       "2  [1281.0, 4419.925618996195, 17939.362311554847...    3\n",
       "3  [96639.0, 22316.930795543907, 32249.5689638383...    3\n",
       "4  [179760.0, 229731.08867416185, 199311.15093873...    3"
      ]
     },
     "execution_count": 4,
     "metadata": {},
     "output_type": "execute_result"
    }
   ],
   "source": [
    "hyp_train = pd.read_pickle('../output/fam_df_hyp.csv')\n",
    "hyp_train.head()"
   ]
  },
  {
   "cell_type": "code",
   "execution_count": 5,
   "metadata": {},
   "outputs": [
    {
     "data": {
      "text/html": [
       "<div>\n",
       "<style scoped>\n",
       "    .dataframe tbody tr th:only-of-type {\n",
       "        vertical-align: middle;\n",
       "    }\n",
       "\n",
       "    .dataframe tbody tr th {\n",
       "        vertical-align: top;\n",
       "    }\n",
       "\n",
       "    .dataframe thead th {\n",
       "        text-align: right;\n",
       "    }\n",
       "</style>\n",
       "<table border=\"1\" class=\"dataframe\">\n",
       "  <thead>\n",
       "    <tr style=\"text-align: right;\">\n",
       "      <th></th>\n",
       "      <th>F.Transform</th>\n",
       "      <th>Tag</th>\n",
       "    </tr>\n",
       "  </thead>\n",
       "  <tbody>\n",
       "    <tr>\n",
       "      <th>0</th>\n",
       "      <td>[759.0, 1264.0386787128, 5573.958052489257, 94...</td>\n",
       "      <td>2</td>\n",
       "    </tr>\n",
       "    <tr>\n",
       "      <th>1</th>\n",
       "      <td>[2020.0, 1656.1083125729801, 3156.932228684829...</td>\n",
       "      <td>2</td>\n",
       "    </tr>\n",
       "    <tr>\n",
       "      <th>2</th>\n",
       "      <td>[1351.0, 5449.936291919177, 4966.821802789967,...</td>\n",
       "      <td>2</td>\n",
       "    </tr>\n",
       "    <tr>\n",
       "      <th>3</th>\n",
       "      <td>[2070.0, 4841.070824996716, 5126.3104211967475...</td>\n",
       "      <td>2</td>\n",
       "    </tr>\n",
       "    <tr>\n",
       "      <th>4</th>\n",
       "      <td>[3425.0, 2449.0917918794817, 4642.320822691707...</td>\n",
       "      <td>2</td>\n",
       "    </tr>\n",
       "  </tbody>\n",
       "</table>\n",
       "</div>"
      ],
      "text/plain": [
       "                                         F.Transform  Tag\n",
       "0  [759.0, 1264.0386787128, 5573.958052489257, 94...    2\n",
       "1  [2020.0, 1656.1083125729801, 3156.932228684829...    2\n",
       "2  [1351.0, 5449.936291919177, 4966.821802789967,...    2\n",
       "3  [2070.0, 4841.070824996716, 5126.3104211967475...    2\n",
       "4  [3425.0, 2449.0917918794817, 4642.320822691707...    2"
      ]
     },
     "execution_count": 5,
     "metadata": {},
     "output_type": "execute_result"
    }
   ],
   "source": [
    "den_train = pd.read_pickle('../output/fam_df_den.csv')\n",
    "den_train.head()"
   ]
  },
  {
   "cell_type": "code",
   "execution_count": 6,
   "metadata": {},
   "outputs": [
    {
     "data": {
      "text/html": [
       "<div>\n",
       "<style scoped>\n",
       "    .dataframe tbody tr th:only-of-type {\n",
       "        vertical-align: middle;\n",
       "    }\n",
       "\n",
       "    .dataframe tbody tr th {\n",
       "        vertical-align: top;\n",
       "    }\n",
       "\n",
       "    .dataframe thead th {\n",
       "        text-align: right;\n",
       "    }\n",
       "</style>\n",
       "<table border=\"1\" class=\"dataframe\">\n",
       "  <thead>\n",
       "    <tr style=\"text-align: right;\">\n",
       "      <th></th>\n",
       "      <th>F.Transform</th>\n",
       "      <th>Tag</th>\n",
       "    </tr>\n",
       "  </thead>\n",
       "  <tbody>\n",
       "    <tr>\n",
       "      <th>0</th>\n",
       "      <td>[1861.0, 3653.0797257971158, 7204.222659266171...</td>\n",
       "      <td>4</td>\n",
       "    </tr>\n",
       "    <tr>\n",
       "      <th>1</th>\n",
       "      <td>[5002.0, 6074.840944470398, 6964.757194668609,...</td>\n",
       "      <td>4</td>\n",
       "    </tr>\n",
       "    <tr>\n",
       "      <th>2</th>\n",
       "      <td>[2936.0, 3189.784904610516, 24216.056958852336...</td>\n",
       "      <td>4</td>\n",
       "    </tr>\n",
       "    <tr>\n",
       "      <th>3</th>\n",
       "      <td>[9395.0, 6637.3150408545935, 15817.38378119733...</td>\n",
       "      <td>4</td>\n",
       "    </tr>\n",
       "    <tr>\n",
       "      <th>4</th>\n",
       "      <td>[8540.0, 8681.16546732637, 34449.579880177, 24...</td>\n",
       "      <td>4</td>\n",
       "    </tr>\n",
       "  </tbody>\n",
       "</table>\n",
       "</div>"
      ],
      "text/plain": [
       "                                         F.Transform  Tag\n",
       "0  [1861.0, 3653.0797257971158, 7204.222659266171...    4\n",
       "1  [5002.0, 6074.840944470398, 6964.757194668609,...    4\n",
       "2  [2936.0, 3189.784904610516, 24216.056958852336...    4\n",
       "3  [9395.0, 6637.3150408545935, 15817.38378119733...    4\n",
       "4  [8540.0, 8681.16546732637, 34449.579880177, 24...    4"
      ]
     },
     "execution_count": 6,
     "metadata": {},
     "output_type": "execute_result"
    }
   ],
   "source": [
    "lep_train = pd.read_pickle('../output/fam_df_lep.csv')\n",
    "lep_train.head()"
   ]
  },
  {
   "cell_type": "code",
   "execution_count": 7,
   "metadata": {},
   "outputs": [],
   "source": [
    "X = np.concatenate((np.vstack(buf_train[\"F.Transform\"]), np.vstack(den_train[\"F.Transform\"]), np.vstack(hyp_train[\"F.Transform\"]), np.vstack(lep_train[\"F.Transform\"])))\n",
    "y = np.concatenate((buf_train.Tag, den_train.Tag, hyp_train.Tag, lep_train.Tag))"
   ]
  },
  {
   "cell_type": "code",
   "execution_count": 8,
   "metadata": {},
   "outputs": [],
   "source": [
    "y = y.reshape(-1, 1)"
   ]
  },
  {
   "cell_type": "code",
   "execution_count": 9,
   "metadata": {},
   "outputs": [],
   "source": [
    "enc = preprocessing.OneHotEncoder()\n",
    "y = enc.fit_transform(y)"
   ]
  },
  {
   "cell_type": "code",
   "execution_count": 10,
   "metadata": {},
   "outputs": [],
   "source": [
    "y = y.toarray()"
   ]
  },
  {
   "cell_type": "code",
   "execution_count": 11,
   "metadata": {},
   "outputs": [],
   "source": [
    "X_train, X_test, y_train, y_test = train_test_split(X, y, test_size=0.2)"
   ]
  },
  {
   "cell_type": "markdown",
   "metadata": {},
   "source": [
    "## Dummies DataFrame"
   ]
  },
  {
   "cell_type": "code",
   "execution_count": null,
   "metadata": {},
   "outputs": [],
   "source": [
    "#train_dum = pd.read_csv('../output/fam_dum_df.csv', index_col=0)\n",
    "#train_dum.head()"
   ]
  },
  {
   "cell_type": "markdown",
   "metadata": {},
   "source": [
    "## Capped DataFrame"
   ]
  },
  {
   "cell_type": "code",
   "execution_count": null,
   "metadata": {},
   "outputs": [],
   "source": [
    "#train_cap = pd.read_csv('../output/fam_cap_df.csv', index_col=0)\n",
    "#train_cap.head()"
   ]
  },
  {
   "cell_type": "code",
   "execution_count": null,
   "metadata": {},
   "outputs": [],
   "source": [
    "#X = train.drop(columns=[\"Tag\"])\n",
    "#y = train[\"Tag\"]\n",
    "\n",
    "#X_train, X_test, y_train, y_test = train_test_split(X, y, test_size=0.2)"
   ]
  },
  {
   "cell_type": "markdown",
   "metadata": {},
   "source": [
    "---"
   ]
  },
  {
   "cell_type": "markdown",
   "metadata": {},
   "source": [
    "---"
   ]
  },
  {
   "cell_type": "markdown",
   "metadata": {},
   "source": [
    "# Neural Network Architecture "
   ]
  },
  {
   "cell_type": "code",
   "execution_count": 19,
   "metadata": {},
   "outputs": [
    {
     "name": "stdout",
     "output_type": "stream",
     "text": [
      "Epoch 1/50\n",
      "58/58 [==============================] - 3s 48ms/step - loss: 0.9099 - accuracy: 0.6313 - val_loss: 0.7600 - val_accuracy: 0.7655\n",
      "Epoch 2/50\n",
      "58/58 [==============================] - 3s 48ms/step - loss: 0.6867 - accuracy: 0.7168 - val_loss: 0.7101 - val_accuracy: 0.7690\n",
      "Epoch 3/50\n",
      "58/58 [==============================] - 3s 48ms/step - loss: 0.5423 - accuracy: 0.7824 - val_loss: 0.7838 - val_accuracy: 0.7345\n",
      "Epoch 4/50\n",
      "58/58 [==============================] - 3s 48ms/step - loss: 0.4804 - accuracy: 0.7979 - val_loss: 0.7608 - val_accuracy: 0.6690\n",
      "Epoch 5/50\n",
      "58/58 [==============================] - 3s 48ms/step - loss: 0.4683 - accuracy: 0.8290 - val_loss: 0.7742 - val_accuracy: 0.7276\n",
      "Epoch 6/50\n",
      "58/58 [==============================] - 3s 53ms/step - loss: 0.4404 - accuracy: 0.8161 - val_loss: 0.7460 - val_accuracy: 0.7241\n",
      "Epoch 7/50\n",
      "58/58 [==============================] - 3s 48ms/step - loss: 0.4552 - accuracy: 0.8316 - val_loss: 0.7833 - val_accuracy: 0.6483\n",
      "Epoch 8/50\n",
      "58/58 [==============================] - 3s 49ms/step - loss: 0.4044 - accuracy: 0.8446 - val_loss: 0.6919 - val_accuracy: 0.6931\n",
      "Epoch 9/50\n",
      "58/58 [==============================] - 3s 48ms/step - loss: 0.3949 - accuracy: 0.8446 - val_loss: 0.8125 - val_accuracy: 0.7759\n",
      "Epoch 10/50\n",
      "58/58 [==============================] - 3s 48ms/step - loss: 0.3971 - accuracy: 0.8558 - val_loss: 0.6854 - val_accuracy: 0.7000\n",
      "Epoch 11/50\n",
      "58/58 [==============================] - 3s 47ms/step - loss: 0.3157 - accuracy: 0.8834 - val_loss: 0.8404 - val_accuracy: 0.8069\n",
      "Epoch 12/50\n",
      "58/58 [==============================] - 3s 48ms/step - loss: 0.2551 - accuracy: 0.9085 - val_loss: 1.1886 - val_accuracy: 0.7345\n",
      "Epoch 13/50\n",
      "58/58 [==============================] - 3s 49ms/step - loss: 0.3104 - accuracy: 0.8877 - val_loss: 0.4710 - val_accuracy: 0.8448\n",
      "Epoch 14/50\n",
      "58/58 [==============================] - 3s 47ms/step - loss: 0.2710 - accuracy: 0.9033 - val_loss: 13.3347 - val_accuracy: 0.4414\n",
      "Epoch 15/50\n",
      "58/58 [==============================] - 3s 47ms/step - loss: 0.2243 - accuracy: 0.9240 - val_loss: 4.1261 - val_accuracy: 0.7897\n",
      "Epoch 16/50\n",
      "58/58 [==============================] - 3s 48ms/step - loss: 0.2267 - accuracy: 0.9180 - val_loss: 0.5066 - val_accuracy: 0.7966\n",
      "Epoch 17/50\n",
      "58/58 [==============================] - 3s 47ms/step - loss: 0.1776 - accuracy: 0.9344 - val_loss: 0.6646 - val_accuracy: 0.7655\n",
      "Epoch 18/50\n",
      "58/58 [==============================] - 3s 48ms/step - loss: 0.2011 - accuracy: 0.9240 - val_loss: 1.0181 - val_accuracy: 0.7379\n",
      "Epoch 19/50\n",
      "58/58 [==============================] - 3s 46ms/step - loss: 0.3695 - accuracy: 0.8739 - val_loss: 0.8489 - val_accuracy: 0.6966\n",
      "Epoch 20/50\n",
      "58/58 [==============================] - 3s 47ms/step - loss: 0.3067 - accuracy: 0.8834 - val_loss: 1.0017 - val_accuracy: 0.6345\n",
      "Epoch 21/50\n",
      "58/58 [==============================] - 3s 47ms/step - loss: 0.2492 - accuracy: 0.9059 - val_loss: 1.7021 - val_accuracy: 0.7345\n",
      "Epoch 22/50\n",
      "58/58 [==============================] - 3s 50ms/step - loss: 0.2834 - accuracy: 0.9102 - val_loss: 0.5079 - val_accuracy: 0.8069\n",
      "Epoch 23/50\n",
      "58/58 [==============================] - 3s 47ms/step - loss: 0.1875 - accuracy: 0.9266 - val_loss: 0.4938 - val_accuracy: 0.8655\n",
      "Epoch 24/50\n",
      "58/58 [==============================] - 3s 49ms/step - loss: 0.1398 - accuracy: 0.9551 - val_loss: 0.5527 - val_accuracy: 0.8345\n",
      "Epoch 25/50\n",
      "58/58 [==============================] - 3s 47ms/step - loss: 0.1632 - accuracy: 0.9491 - val_loss: 0.5678 - val_accuracy: 0.8310\n",
      "Epoch 26/50\n",
      "58/58 [==============================] - 3s 49ms/step - loss: 0.1850 - accuracy: 0.9335 - val_loss: 0.6818 - val_accuracy: 0.7966\n",
      "Epoch 27/50\n",
      "58/58 [==============================] - 3s 48ms/step - loss: 0.1356 - accuracy: 0.9611 - val_loss: 0.3726 - val_accuracy: 0.8690\n",
      "Epoch 28/50\n",
      "58/58 [==============================] - 3s 49ms/step - loss: 0.1569 - accuracy: 0.9473 - val_loss: 7.7394 - val_accuracy: 0.7310\n",
      "Epoch 29/50\n",
      "58/58 [==============================] - 3s 47ms/step - loss: 0.1034 - accuracy: 0.9603 - val_loss: 146.4181 - val_accuracy: 0.8448\n",
      "Epoch 30/50\n",
      "58/58 [==============================] - 3s 47ms/step - loss: 0.2126 - accuracy: 0.9275 - val_loss: 0.9254 - val_accuracy: 0.7000\n",
      "Epoch 31/50\n",
      "58/58 [==============================] - 3s 50ms/step - loss: 0.1541 - accuracy: 0.9439 - val_loss: 0.3663 - val_accuracy: 0.8207\n",
      "Epoch 32/50\n",
      "58/58 [==============================] - 3s 48ms/step - loss: 0.1906 - accuracy: 0.9370 - val_loss: 0.4804 - val_accuracy: 0.8241\n",
      "Epoch 33/50\n",
      "58/58 [==============================] - 3s 48ms/step - loss: 0.1658 - accuracy: 0.9508 - val_loss: 0.4655 - val_accuracy: 0.8724\n",
      "Epoch 34/50\n",
      "58/58 [==============================] - 3s 48ms/step - loss: 0.1280 - accuracy: 0.9473 - val_loss: 0.4176 - val_accuracy: 0.8586\n",
      "Epoch 35/50\n",
      "58/58 [==============================] - 3s 49ms/step - loss: 0.1066 - accuracy: 0.9689 - val_loss: 0.7989 - val_accuracy: 0.8897\n",
      "Epoch 36/50\n",
      "58/58 [==============================] - 3s 50ms/step - loss: 0.1047 - accuracy: 0.9646 - val_loss: 3.2892 - val_accuracy: 0.8724\n",
      "Epoch 37/50\n",
      "58/58 [==============================] - 3s 48ms/step - loss: 0.1235 - accuracy: 0.9611 - val_loss: 0.6648 - val_accuracy: 0.8862\n",
      "Epoch 38/50\n",
      "58/58 [==============================] - 3s 50ms/step - loss: 0.0990 - accuracy: 0.9706 - val_loss: 1.9733 - val_accuracy: 0.9103\n",
      "Epoch 39/50\n",
      "58/58 [==============================] - 3s 48ms/step - loss: 0.1063 - accuracy: 0.9629 - val_loss: 6.2717 - val_accuracy: 0.8241\n",
      "Epoch 40/50\n",
      "58/58 [==============================] - 3s 48ms/step - loss: 0.0963 - accuracy: 0.9663 - val_loss: 2.6021 - val_accuracy: 0.8690\n",
      "Epoch 41/50\n",
      "58/58 [==============================] - 3s 49ms/step - loss: 0.0997 - accuracy: 0.9698 - val_loss: 0.6207 - val_accuracy: 0.8586\n",
      "Epoch 42/50\n",
      "58/58 [==============================] - 3s 50ms/step - loss: 0.0798 - accuracy: 0.9689 - val_loss: 0.5472 - val_accuracy: 0.8931\n",
      "Epoch 43/50\n",
      "58/58 [==============================] - 3s 49ms/step - loss: 0.1632 - accuracy: 0.9499 - val_loss: 0.5930 - val_accuracy: 0.8621\n",
      "Epoch 44/50\n",
      "58/58 [==============================] - 3s 52ms/step - loss: 0.1074 - accuracy: 0.9672 - val_loss: 0.4493 - val_accuracy: 0.8655\n",
      "Epoch 45/50\n",
      "58/58 [==============================] - 3s 50ms/step - loss: 0.1032 - accuracy: 0.9620 - val_loss: 2.2370 - val_accuracy: 0.8276\n",
      "Epoch 46/50\n",
      "58/58 [==============================] - 3s 47ms/step - loss: 0.1147 - accuracy: 0.9680 - val_loss: 1.1290 - val_accuracy: 0.8345\n",
      "Epoch 47/50\n",
      "58/58 [==============================] - 3s 50ms/step - loss: 0.0890 - accuracy: 0.9698 - val_loss: 0.8828 - val_accuracy: 0.8828\n",
      "Epoch 48/50\n",
      "58/58 [==============================] - 3s 51ms/step - loss: 0.0708 - accuracy: 0.9758 - val_loss: 1.3353 - val_accuracy: 0.8552\n",
      "Epoch 49/50\n",
      "58/58 [==============================] - 3s 51ms/step - loss: 0.1237 - accuracy: 0.9637 - val_loss: 1.3421 - val_accuracy: 0.8172\n",
      "Epoch 50/50\n",
      "58/58 [==============================] - 3s 50ms/step - loss: 0.1297 - accuracy: 0.9508 - val_loss: 0.4281 - val_accuracy: 0.8517\n",
      "10/10 [==============================] - 0s 6ms/step - loss: 0.4281 - accuracy: 0.8517\n",
      "\n",
      "\n",
      "Resultados:  [0.4281224012374878, 0.8517241477966309]\n",
      "\n",
      "\n"
     ]
    }
   ],
   "source": [
    "number_classes = y.shape[1]\n",
    "inshape = (X_train.shape[1],)\n",
    "\n",
    "\n",
    "model = models.Sequential()  #creates the neural network layers:\n",
    "\n",
    "model.add(layers.Dense(512, activation='relu', input_shape=inshape))\n",
    "model.add(layers.Dense(256, activation='relu'))\n",
    "model.add(BatchNormalization())\n",
    "model.add(layers.Dense(128, activation='relu'))\n",
    "model.add(layers.Dense(64, activation='relu'))\n",
    "\n",
    "model.add(layers.Dense(number_classes, activation='softmax'))\n",
    "model.compile(optimizer='Nadam',\n",
    "            loss='categorical_crossentropy',\n",
    "            metrics=['accuracy'])\n",
    "\n",
    "history = model.fit(X_train,\n",
    "        y_train,\n",
    "        epochs=50,\n",
    "        batch_size=20,\n",
    "        validation_data=(X_test, y_test))\n",
    "\n",
    "results = model.evaluate(X_test, y_test)\n",
    "print(\"\\n\")\n",
    "print(\"Resultados: \",results)\n",
    "print(\"\\n\")"
   ]
  },
  {
   "cell_type": "code",
   "execution_count": 14,
   "metadata": {},
   "outputs": [],
   "source": [
    "name='0.9034-accuracy-20batch_size-50epochs-loss1.0390'\n",
    "model_json = model.to_json()\n",
    "with open(name+'.json', 'w') as json_file:\n",
    "    json.dump(model_json, json_file)\n",
    "model.save('../models/'+name+'.h5')"
   ]
  },
  {
   "cell_type": "markdown",
   "metadata": {},
   "source": [
    "---"
   ]
  },
  {
   "cell_type": "markdown",
   "metadata": {},
   "source": [
    "---"
   ]
  },
  {
   "cell_type": "markdown",
   "metadata": {},
   "source": [
    "# Predictions"
   ]
  },
  {
   "cell_type": "code",
   "execution_count": 18,
   "metadata": {
    "scrolled": true
   },
   "outputs": [
    {
     "data": {
      "text/plain": [
       "array([[9.9902940e-01, 8.1644372e-05, 1.5538946e-05, 8.7346212e-04],\n",
       "       [9.3870368e-03, 5.5032738e-02, 8.8960277e-03, 9.2668426e-01],\n",
       "       [1.0000000e+00, 8.5711652e-29, 6.2027412e-26, 8.3257126e-26],\n",
       "       ...,\n",
       "       [9.5565468e-02, 7.7951150e-03, 8.7746751e-04, 8.9576191e-01],\n",
       "       [7.8613609e-02, 5.0996542e-01, 8.5923173e-02, 3.2549781e-01],\n",
       "       [1.0000000e+00, 3.9577573e-18, 9.8978943e-19, 9.9496917e-17]],\n",
       "      dtype=float32)"
      ]
     },
     "execution_count": 18,
     "metadata": {},
     "output_type": "execute_result"
    }
   ],
   "source": [
    "y_pred = model.predict(X_test)\n",
    "y_pred"
   ]
  },
  {
   "cell_type": "code",
   "execution_count": 19,
   "metadata": {},
   "outputs": [
    {
     "data": {
      "text/plain": [
       "array([1, 4, 1, 1, 4, 4, 2, 4, 2, 1, 1, 1, 1, 4, 1, 4, 1, 1, 1, 1, 1, 2,\n",
       "       1, 1, 4, 4, 4, 2, 1, 1, 2, 2, 4, 1, 2, 1, 4, 4, 1, 1, 1, 4, 1, 4,\n",
       "       1, 4, 4, 3, 4, 1, 4, 2, 4, 1, 2, 2, 4, 2, 1, 4, 4, 4, 4, 4, 4, 1,\n",
       "       1, 2, 4, 2, 2, 4, 4, 4, 2, 4, 4, 2, 4, 2, 2, 4, 4, 2, 4, 4, 1, 1,\n",
       "       4, 1, 1, 1, 1, 2, 2, 1, 1, 4, 1, 4, 2, 1, 1, 4, 4, 2, 1, 4, 4, 2,\n",
       "       2, 4, 2, 2, 1, 4, 4, 1, 4, 4, 4, 1, 4, 4, 2, 4, 1, 4, 4, 3, 4, 4,\n",
       "       1, 4, 1, 4, 4, 4, 4, 1, 4, 1, 1, 4, 3, 2, 4, 4, 1, 2, 4, 1, 4, 4,\n",
       "       2, 4, 4, 1, 1, 4, 1, 1, 4, 4, 1, 2, 4, 2, 4, 4, 4, 4, 2, 1, 4, 4,\n",
       "       2, 2, 4, 2, 2, 4, 4, 1, 4, 2, 4, 4, 2, 4, 1, 2, 2, 2, 2, 1, 4, 4,\n",
       "       4, 1, 1, 3, 2, 4, 1, 4, 1, 4, 4, 1, 4, 1, 1, 1, 4, 1, 1, 4, 4, 4,\n",
       "       4, 2, 2, 2, 4, 1, 4, 1, 4, 1, 4, 1, 4, 4, 4, 2, 1, 2, 3, 2, 4, 4,\n",
       "       1, 4, 1, 4, 2, 4, 1, 2, 1, 1, 2, 1, 4, 2, 2, 4, 2, 1, 4, 4, 4, 4,\n",
       "       4, 1, 4, 1, 4, 4, 1, 1, 1, 1, 4, 4, 2, 1, 1, 1, 4, 1, 4, 1, 4, 4,\n",
       "       4, 4, 2, 1])"
      ]
     },
     "execution_count": 19,
     "metadata": {},
     "output_type": "execute_result"
    }
   ],
   "source": [
    "prediction = enc.inverse_transform(y_pred)\n",
    "prediction = prediction.reshape(prediction.shape[0])\n",
    "prediction"
   ]
  },
  {
   "cell_type": "code",
   "execution_count": 20,
   "metadata": {},
   "outputs": [
    {
     "data": {
      "text/plain": [
       "array([1, 4, 1, 1, 4, 4, 2, 4, 2, 1, 1, 3, 1, 4, 1, 4, 1, 1, 1, 1, 1, 2,\n",
       "       1, 1, 3, 4, 4, 2, 1, 3, 2, 2, 4, 1, 2, 1, 3, 4, 3, 3, 1, 3, 1, 4,\n",
       "       1, 2, 2, 3, 2, 1, 4, 2, 2, 1, 2, 2, 4, 1, 1, 4, 4, 1, 2, 3, 4, 1,\n",
       "       3, 2, 4, 2, 2, 4, 4, 4, 2, 4, 4, 3, 3, 3, 2, 3, 3, 3, 4, 4, 1, 1,\n",
       "       3, 1, 1, 1, 1, 2, 2, 1, 1, 2, 1, 2, 2, 1, 1, 4, 1, 2, 1, 3, 4, 2,\n",
       "       2, 2, 2, 2, 1, 4, 4, 3, 4, 4, 2, 1, 4, 4, 4, 4, 3, 4, 2, 3, 2, 4,\n",
       "       1, 4, 1, 2, 2, 2, 3, 1, 4, 3, 1, 2, 3, 2, 4, 4, 1, 2, 4, 1, 4, 2,\n",
       "       2, 4, 2, 1, 1, 3, 1, 1, 4, 3, 1, 2, 3, 2, 4, 4, 3, 3, 2, 3, 3, 4,\n",
       "       2, 2, 4, 2, 2, 3, 3, 1, 2, 2, 4, 2, 2, 3, 1, 3, 2, 3, 2, 3, 3, 3,\n",
       "       4, 1, 1, 3, 2, 4, 3, 4, 3, 2, 4, 1, 3, 1, 1, 1, 4, 3, 1, 4, 2, 4,\n",
       "       4, 2, 3, 2, 2, 3, 3, 1, 3, 1, 4, 3, 4, 4, 2, 4, 1, 2, 3, 1, 4, 2,\n",
       "       3, 4, 1, 3, 3, 4, 1, 2, 1, 1, 2, 1, 4, 2, 2, 4, 2, 1, 3, 2, 4, 1,\n",
       "       3, 1, 4, 1, 3, 4, 1, 2, 2, 1, 3, 4, 2, 1, 1, 1, 4, 1, 4, 1, 4, 4,\n",
       "       4, 4, 4, 1])"
      ]
     },
     "execution_count": 20,
     "metadata": {},
     "output_type": "execute_result"
    }
   ],
   "source": [
    "y_test = enc.inverse_transform(y_test)\n",
    "y_test = y_test.reshape(y_test.shape[0])\n",
    "y_test"
   ]
  },
  {
   "cell_type": "code",
   "execution_count": 21,
   "metadata": {},
   "outputs": [
    {
     "data": {
      "text/html": [
       "<div>\n",
       "<style scoped>\n",
       "    .dataframe tbody tr th:only-of-type {\n",
       "        vertical-align: middle;\n",
       "    }\n",
       "\n",
       "    .dataframe tbody tr th {\n",
       "        vertical-align: top;\n",
       "    }\n",
       "\n",
       "    .dataframe thead th {\n",
       "        text-align: right;\n",
       "    }\n",
       "</style>\n",
       "<table border=\"1\" class=\"dataframe\">\n",
       "  <thead>\n",
       "    <tr style=\"text-align: right;\">\n",
       "      <th></th>\n",
       "      <th>prediction</th>\n",
       "      <th>ground_truth</th>\n",
       "      <th>diff</th>\n",
       "    </tr>\n",
       "  </thead>\n",
       "  <tbody>\n",
       "    <tr>\n",
       "      <th>0</th>\n",
       "      <td>1</td>\n",
       "      <td>1</td>\n",
       "      <td>0</td>\n",
       "    </tr>\n",
       "    <tr>\n",
       "      <th>1</th>\n",
       "      <td>4</td>\n",
       "      <td>4</td>\n",
       "      <td>0</td>\n",
       "    </tr>\n",
       "    <tr>\n",
       "      <th>2</th>\n",
       "      <td>1</td>\n",
       "      <td>1</td>\n",
       "      <td>0</td>\n",
       "    </tr>\n",
       "    <tr>\n",
       "      <th>3</th>\n",
       "      <td>1</td>\n",
       "      <td>1</td>\n",
       "      <td>0</td>\n",
       "    </tr>\n",
       "    <tr>\n",
       "      <th>4</th>\n",
       "      <td>4</td>\n",
       "      <td>4</td>\n",
       "      <td>0</td>\n",
       "    </tr>\n",
       "    <tr>\n",
       "      <th>...</th>\n",
       "      <td>...</td>\n",
       "      <td>...</td>\n",
       "      <td>...</td>\n",
       "    </tr>\n",
       "    <tr>\n",
       "      <th>285</th>\n",
       "      <td>4</td>\n",
       "      <td>4</td>\n",
       "      <td>0</td>\n",
       "    </tr>\n",
       "    <tr>\n",
       "      <th>286</th>\n",
       "      <td>4</td>\n",
       "      <td>4</td>\n",
       "      <td>0</td>\n",
       "    </tr>\n",
       "    <tr>\n",
       "      <th>287</th>\n",
       "      <td>4</td>\n",
       "      <td>4</td>\n",
       "      <td>0</td>\n",
       "    </tr>\n",
       "    <tr>\n",
       "      <th>288</th>\n",
       "      <td>2</td>\n",
       "      <td>4</td>\n",
       "      <td>-2</td>\n",
       "    </tr>\n",
       "    <tr>\n",
       "      <th>289</th>\n",
       "      <td>1</td>\n",
       "      <td>1</td>\n",
       "      <td>0</td>\n",
       "    </tr>\n",
       "  </tbody>\n",
       "</table>\n",
       "<p>290 rows × 3 columns</p>\n",
       "</div>"
      ],
      "text/plain": [
       "     prediction  ground_truth  diff\n",
       "0             1             1     0\n",
       "1             4             4     0\n",
       "2             1             1     0\n",
       "3             1             1     0\n",
       "4             4             4     0\n",
       "..          ...           ...   ...\n",
       "285           4             4     0\n",
       "286           4             4     0\n",
       "287           4             4     0\n",
       "288           2             4    -2\n",
       "289           1             1     0\n",
       "\n",
       "[290 rows x 3 columns]"
      ]
     },
     "execution_count": 21,
     "metadata": {},
     "output_type": "execute_result"
    }
   ],
   "source": [
    "prediction_df = pd.DataFrame({'prediction': prediction,\n",
    "                              'ground_truth': y_test,\n",
    "                              'diff': prediction - y_test})\n",
    "prediction_df"
   ]
  },
  {
   "cell_type": "code",
   "execution_count": 22,
   "metadata": {},
   "outputs": [
    {
     "data": {
      "text/plain": [
       " 0    203\n",
       " 1     31\n",
       " 2     25\n",
       "-2     19\n",
       "-1      9\n",
       " 3      3\n",
       "Name: diff, dtype: int64"
      ]
     },
     "execution_count": 22,
     "metadata": {},
     "output_type": "execute_result"
    }
   ],
   "source": [
    "prediction_df[\"diff\"].value_counts()"
   ]
  },
  {
   "cell_type": "code",
   "execution_count": 23,
   "metadata": {},
   "outputs": [
    {
     "data": {
      "text/plain": [
       "82.06896551724138"
      ]
     },
     "execution_count": 23,
     "metadata": {},
     "output_type": "execute_result"
    }
   ],
   "source": [
    "x = 238/290 *100\n",
    "x"
   ]
  },
  {
   "cell_type": "markdown",
   "metadata": {},
   "source": [
    "---"
   ]
  },
  {
   "cell_type": "markdown",
   "metadata": {},
   "source": [
    "---"
   ]
  },
  {
   "cell_type": "markdown",
   "metadata": {},
   "source": [
    "## Drawing Layers' Schema and Summary"
   ]
  },
  {
   "cell_type": "code",
   "execution_count": 14,
   "metadata": {},
   "outputs": [
    {
     "name": "stdout",
     "output_type": "stream",
     "text": [
      "Failed to import pydot. You must install pydot and graphviz for `pydotprint` to work.\n"
     ]
    }
   ],
   "source": [
    "keras.utils.plot_model(model, \"Seq-BN.png\", show_shapes=True)"
   ]
  },
  {
   "cell_type": "code",
   "execution_count": 15,
   "metadata": {},
   "outputs": [
    {
     "name": "stdout",
     "output_type": "stream",
     "text": [
      "Model: \"sequential\"\n",
      "_________________________________________________________________\n",
      "Layer (type)                 Output Shape              Param #   \n",
      "=================================================================\n",
      "dense (Dense)                (None, 512)               2621952   \n",
      "_________________________________________________________________\n",
      "dense_1 (Dense)              (None, 256)               131328    \n",
      "_________________________________________________________________\n",
      "batch_normalization (BatchNo (None, 256)               1024      \n",
      "_________________________________________________________________\n",
      "dense_2 (Dense)              (None, 128)               32896     \n",
      "_________________________________________________________________\n",
      "dense_3 (Dense)              (None, 64)                8256      \n",
      "_________________________________________________________________\n",
      "dense_4 (Dense)              (None, 4)                 260       \n",
      "=================================================================\n",
      "Total params: 2,795,716\n",
      "Trainable params: 2,795,204\n",
      "Non-trainable params: 512\n",
      "_________________________________________________________________\n"
     ]
    }
   ],
   "source": [
    "model.summary()"
   ]
  },
  {
   "cell_type": "markdown",
   "metadata": {},
   "source": [
    "---"
   ]
  },
  {
   "cell_type": "markdown",
   "metadata": {},
   "source": [
    "## Plotting Accuracy and Loss"
   ]
  },
  {
   "cell_type": "code",
   "execution_count": 20,
   "metadata": {},
   "outputs": [
    {
     "data": {
      "image/png": "[encoded data removed]",
      "text/plain": [
       "<Figure size 432x288 with 1 Axes>"
      ]
     },
     "metadata": {},
     "output_type": "display_data"
    },
    {
     "data": {
      "image/png": "[encoded data removed]",
      "text/plain": [
       "<Figure size 432x288 with 1 Axes>"
      ]
     },
     "metadata": {},
     "output_type": "display_data"
    }
   ],
   "source": [
    "with plt.xkcd():\n",
    "    # Plot training & validation accuracy values\n",
    "    plt.plot(history.history['accuracy'])\n",
    "    plt.plot(history.history['val_accuracy'])\n",
    "    plt.title('Model accuracy')\n",
    "    plt.ylabel('Accuracy')\n",
    "    plt.xlabel('Epoch')\n",
    "    plt.legend(['Train', 'Test'], loc='upper left')\n",
    "    plt.show()\n",
    "\n",
    "    # Plot training & validation loss values\n",
    "    plt.plot(history.history['loss'])\n",
    "    plt.plot(history.history['val_loss'])\n",
    "    plt.title('Model loss')\n",
    "    plt.ylabel('Loss')\n",
    "    plt.xlabel('Epoch')\n",
    "    plt.legend(['Train', 'Test'], loc='upper left')\n",
    "    plt.show()\n"
   ]
  },
  {
   "cell_type": "markdown",
   "metadata": {},
   "source": [
    "---"
   ]
  },
  {
   "cell_type": "markdown",
   "metadata": {},
   "source": [
    "## Plotting Confusion Matrix"
   ]
  },
  {
   "cell_type": "code",
   "execution_count": 21,
   "metadata": {},
   "outputs": [
    {
     "name": "stdout",
     "output_type": "stream",
     "text": [
      "[0.18712631 0.1344949  0.25396717 0.4244116 ]\n",
      "3\n"
     ]
    },
    {
     "data": {
      "image/png": "[encoded data removed]",
      "text/plain": [
       "<Figure size 432x288 with 2 Axes>"
      ]
     },
     "metadata": {
      "needs_background": "light"
     },
     "output_type": "display_data"
    }
   ],
   "source": [
    "## Use argmax to project output probabilites as class index label\n",
    "proba = model.predict(X_test)\n",
    "print(proba[0])\n",
    "y_predi = np.argmax(proba, axis=1)\n",
    "print(y_predi[0])\n",
    "y_t = np.argmax(y_test, axis=1)\n",
    "\n",
    "cm = confusion_matrix(y_t, y_predi)\n",
    "\n",
    "sns.heatmap(cm, annot=True)\n",
    "plt.xlabel(\"GT\")\n",
    "plt.ylabel(\"Predicted\")\n",
    "plt.title(f\"Test data = {len(y_predi)} samples\")\n",
    "plt.show()"
   ]
  },
  {
   "cell_type": "markdown",
   "metadata": {},
   "source": [
    "---"
   ]
  },
  {
   "cell_type": "markdown",
   "metadata": {},
   "source": [
    "---"
   ]
  },
  {
   "cell_type": "markdown",
   "metadata": {},
   "source": [
    "## ROC Curve"
   ]
  },
  {
   "cell_type": "markdown",
   "metadata": {},
   "source": [
    "Best performance: Convolutional neural network with 2D convolutional layers and MaxPooling2D (validation accuracy = 0.95)."
   ]
  },
  {
   "cell_type": "code",
   "execution_count": 28,
   "metadata": {},
   "outputs": [],
   "source": [
    "from sklearn.metrics import roc_auc_score"
   ]
  },
  {
   "cell_type": "code",
   "execution_count": null,
   "metadata": {},
   "outputs": [],
   "source": [
    "# ROC Curve:\n",
    "multiclassROCcurve(model, val_x, val_y, n_classes)\n",
    "\n",
    "# Evaluating overfitting:\n",
    "accuracyPlot(history, 4)\n",
    "lossPlot(history, 4)\n",
    "accuracyPlot(history, 10)\n",
    "lossPlot(history, 10)"
   ]
  },
  {
   "cell_type": "code",
   "execution_count": null,
   "metadata": {},
   "outputs": [],
   "source": [
    "from sklearn.metrics import roc_auc_score\n",
    "y_true = np.array([0, 0, 1, 1])\n",
    "y_scores = np.array([0.1, 0.4, 0.35, 0.8])\n",
    "\n",
    "# Extract AUC score\n",
    "roc_auc_score(y_true, y_scores)\n",
    "\n",
    "# Extract ROC curve\n",
    "fpr, tpr, thresholds = metrics.roc_curve(y, y_scores, pos_label=1)"
   ]
  },
  {
   "cell_type": "code",
   "execution_count": null,
   "metadata": {},
   "outputs": [],
   "source": [
    "%matplotlib inline\n",
    "from sklearn.metrics import roc_auc_score, roc_curve\n",
    "import matplotlib.pyplot as plt\n",
    "\n",
    "analyzeModels = {\n",
    "    name:model for name, model in models.items() if name in [\"logis\",\"randomforest\"]\n",
    "}\n",
    "\n",
    "plt.figure(figsize=(10,5))\n",
    "aucs = []\n",
    "for name, model in analyzeModels.items():\n",
    "    y_scores = model.predict_proba(X_test)\n",
    "    \n",
    "    alive_scores = y_scores[:,1]\n",
    "    \n",
    "    # Extract AUC score\n",
    "    auc = roc_auc_score(y_test, alive_scores)\n",
    "    aucs.append(f\"AUC({name})={round(auc,2)}\")\n",
    "    # Extract ROC curve\n",
    "    fpr, tpr, thresholds = roc_curve(y_test, alive_scores, pos_label=1)\n",
    "    plt.plot(fpr,tpr)\n",
    "\n",
    "plt.legend(aucs)"
   ]
  },
  {
   "cell_type": "markdown",
   "metadata": {},
   "source": [
    "---"
   ]
  },
  {
   "cell_type": "markdown",
   "metadata": {},
   "source": [
    "---"
   ]
  },
  {
   "cell_type": "markdown",
   "metadata": {},
   "source": [
    "## Saving the Model"
   ]
  },
  {
   "cell_type": "code",
   "execution_count": null,
   "metadata": {},
   "outputs": [],
   "source": [
    "name='0.9034-accuracy-20batch_size-50epochs-loss1.0390'\n",
    "model_json = model.to_json()\n",
    "with open(name+'.json', 'w') as json_file:\n",
    "    json.dump(model_json, json_file)\n",
    "model.save('../models/'+name+'.h5')"
   ]
  }
 ],
 "metadata": {
  "kernelspec": {
   "display_name": "Python 3",
   "language": "python",
   "name": "python3"
  },
  "language_info": {
   "codemirror_mode": {
    "name": "ipython",
    "version": 3
   },
   "file_extension": ".py",
   "mimetype": "text/x-python",
   "name": "python",
   "nbconvert_exporter": "python",
   "pygments_lexer": "ipython3",
   "version": "3.8.5"
  }
 },
 "nbformat": 4,
 "nbformat_minor": 4
}
