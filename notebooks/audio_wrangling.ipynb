{
 "cells": [
  {
   "cell_type": "markdown",
   "metadata": {},
   "source": [
    "# AUDIO WRANGLING 🔊"
   ]
  },
  {
   "cell_type": "code",
   "execution_count": 2,
   "metadata": {},
   "outputs": [],
   "source": [
    "import os\n",
    "import sys\n",
    "module_path = os.path.abspath(os.path.join('..'))\n",
    "if module_path not in sys.path:\n",
    "    sys.path.append(module_path)\n",
    "    \n",
    "from pydub.utils import make_chunks\n",
    "from pydub import AudioSegment\n",
    "from scipy.fftpack import fft\n",
    "from pydub.utils import make_chunks\n",
    "import numpy as np\n",
    "import pandas as pd\n",
    "import re"
   ]
  },
  {
   "cell_type": "markdown",
   "metadata": {},
   "source": [
    "----"
   ]
  },
  {
   "cell_type": "code",
   "execution_count": 2,
   "metadata": {},
   "outputs": [
    {
     "name": "stdout",
     "output_type": "stream",
     "text": [
      "../input/.DS_Store\n",
      "../input/Bufonidae\n",
      "../input/Arthroleptidae\n",
      "../input/Hyperollidae\n",
      "../input/Leptodactylidae\n",
      "../input/Dendrobatidae\n"
     ]
    }
   ],
   "source": [
    "path = \"../input\"\n",
    "for familia in os.listdir(path):\n",
    "    familia = os.path.join(path, familia)\n",
    "    print(familia)"
   ]
  },
  {
   "cell_type": "code",
   "execution_count": 3,
   "metadata": {},
   "outputs": [],
   "source": [
    "def audioSegmentData(direc, chunk_length_ms):\n",
    "    fam = []\n",
    "    path = f\"../input/{direc}\"\n",
    "    for audio in os.listdir(path):\n",
    "        if audio.endswith('.mp3'):\n",
    "            croak = AudioSegment.from_mp3(path+\"/\"+audio)\n",
    "            croak = croak.set_frame_rate(16000)\n",
    "            \n",
    "            croak_chunks = make_chunks(croak, chunk_length_ms)\n",
    "            fam.append(croak_chunks)\n",
    "    return fam"
   ]
  },
  {
   "cell_type": "markdown",
   "metadata": {},
   "source": [
    "---"
   ]
  },
  {
   "cell_type": "markdown",
   "metadata": {},
   "source": [
    "## Segmenting Recordings"
   ]
  },
  {
   "cell_type": "code",
   "execution_count": 4,
   "metadata": {},
   "outputs": [],
   "source": [
    "buf = audioSegmentData(\"Bufonidae\", 5000)\n",
    "buf = [x for e in buf for x in e]"
   ]
  },
  {
   "cell_type": "code",
   "execution_count": 5,
   "metadata": {},
   "outputs": [],
   "source": [
    "den = audioSegmentData(\"Dendrobatidae\", 5000)\n",
    "den = [x for e in den for x in e]"
   ]
  },
  {
   "cell_type": "code",
   "execution_count": 6,
   "metadata": {},
   "outputs": [],
   "source": [
    "hyp = audioSegmentData(\"Hyperollidae\", 5000)\n",
    "hyp = [x for e in hyp for x in e]"
   ]
  },
  {
   "cell_type": "code",
   "execution_count": 7,
   "metadata": {},
   "outputs": [],
   "source": [
    "lep = audioSegmentData(\"Leptodactylidae\", 5000)\n",
    "lep = [x for e in lep for x in e]"
   ]
  },
  {
   "cell_type": "markdown",
   "metadata": {},
   "source": [
    "-------"
   ]
  },
  {
   "cell_type": "markdown",
   "metadata": {},
   "source": [
    "------"
   ]
  },
  {
   "cell_type": "markdown",
   "metadata": {},
   "source": [
    "## Extracting Fourier Features\n"
   ]
  },
  {
   "cell_type": "code",
   "execution_count": null,
   "metadata": {},
   "outputs": [],
   "source": [
    "# au.audioFeaturesFourie(buf)"
   ]
  },
  {
   "cell_type": "code",
   "execution_count": 8,
   "metadata": {},
   "outputs": [],
   "source": [
    "def audioFeaturesFourier(array):\n",
    "    for e in array:\n",
    "        array = e.get_array_of_samples()\n",
    "        abs_four = np.abs(fft(array))\n",
    "    return abs_four"
   ]
  },
  {
   "cell_type": "code",
   "execution_count": 9,
   "metadata": {},
   "outputs": [
    {
     "data": {
      "text/plain": [
       "array([18001.        ,  2077.43801242,  4324.44767849, ...,\n",
       "        7462.54575626,  4324.44767849,  2077.43801242])"
      ]
     },
     "execution_count": 9,
     "metadata": {},
     "output_type": "execute_result"
    }
   ],
   "source": [
    "bufFF = audioFeaturesFourier(buf)\n",
    "bufFF"
   ]
  },
  {
   "cell_type": "code",
   "execution_count": 10,
   "metadata": {},
   "outputs": [
    {
     "data": {
      "text/plain": [
       "array([5302.        , 6228.34096784, 6393.50316783, ..., 5637.85263854,\n",
       "       6393.50316783, 6228.34096784])"
      ]
     },
     "execution_count": 10,
     "metadata": {},
     "output_type": "execute_result"
    }
   ],
   "source": [
    "denFF = audioFeaturesFourier(den)\n",
    "denFF"
   ]
  },
  {
   "cell_type": "code",
   "execution_count": 11,
   "metadata": {},
   "outputs": [
    {
     "data": {
      "text/plain": [
       "array([87513.        ,  5053.06608667, 60770.5592036 , ...,\n",
       "       95014.37986937, 60770.5592036 ,  5053.06608667])"
      ]
     },
     "execution_count": 11,
     "metadata": {},
     "output_type": "execute_result"
    }
   ],
   "source": [
    "hypFF = audioFeaturesFourier(hyp)\n",
    "hypFF"
   ]
  },
  {
   "cell_type": "code",
   "execution_count": 12,
   "metadata": {},
   "outputs": [
    {
     "data": {
      "text/plain": [
       "array([125549.        , 178438.35068799, 202574.36759407, ...,\n",
       "       129512.73696723, 202574.36759407, 178438.35068799])"
      ]
     },
     "execution_count": 12,
     "metadata": {},
     "output_type": "execute_result"
    }
   ],
   "source": [
    "lepFF = audioFeaturesFourier(lep)\n",
    "lepFF"
   ]
  },
  {
   "cell_type": "markdown",
   "metadata": {},
   "source": [
    "-----"
   ]
  },
  {
   "cell_type": "markdown",
   "metadata": {},
   "source": [
    "----"
   ]
  },
  {
   "cell_type": "markdown",
   "metadata": {},
   "source": [
    "## Creating *Familia* Dataframes"
   ]
  },
  {
   "cell_type": "code",
   "execution_count": 13,
   "metadata": {},
   "outputs": [],
   "source": [
    "buf_or = {\"F. Transform\": [a for a in bufFF], \"Tag\": 1}\n",
    "den_or = {\"F. Transform\": [a for a in denFF], \"Tag\": 2}\n",
    "hyp_or = {\"F. Transform\": [a for a in hypFF], \"Tag\": 3}\n",
    "lep_or = {\"F. Transform\": [a for a in lepFF], \"Tag\": 4}"
   ]
  },
  {
   "cell_type": "code",
   "execution_count": 14,
   "metadata": {},
   "outputs": [
    {
     "data": {
      "text/html": [
       "<div>\n",
       "<style scoped>\n",
       "    .dataframe tbody tr th:only-of-type {\n",
       "        vertical-align: middle;\n",
       "    }\n",
       "\n",
       "    .dataframe tbody tr th {\n",
       "        vertical-align: top;\n",
       "    }\n",
       "\n",
       "    .dataframe thead th {\n",
       "        text-align: right;\n",
       "    }\n",
       "</style>\n",
       "<table border=\"1\" class=\"dataframe\">\n",
       "  <thead>\n",
       "    <tr style=\"text-align: right;\">\n",
       "      <th></th>\n",
       "      <th>F. Transform</th>\n",
       "      <th>Tag</th>\n",
       "    </tr>\n",
       "  </thead>\n",
       "  <tbody>\n",
       "    <tr>\n",
       "      <th>0</th>\n",
       "      <td>18001.000000</td>\n",
       "      <td>1</td>\n",
       "    </tr>\n",
       "    <tr>\n",
       "      <th>1</th>\n",
       "      <td>2077.438012</td>\n",
       "      <td>1</td>\n",
       "    </tr>\n",
       "    <tr>\n",
       "      <th>2</th>\n",
       "      <td>4324.447678</td>\n",
       "      <td>1</td>\n",
       "    </tr>\n",
       "    <tr>\n",
       "      <th>3</th>\n",
       "      <td>7462.545756</td>\n",
       "      <td>1</td>\n",
       "    </tr>\n",
       "    <tr>\n",
       "      <th>4</th>\n",
       "      <td>8746.229687</td>\n",
       "      <td>1</td>\n",
       "    </tr>\n",
       "    <tr>\n",
       "      <th>...</th>\n",
       "      <td>...</td>\n",
       "      <td>...</td>\n",
       "    </tr>\n",
       "    <tr>\n",
       "      <th>364827</th>\n",
       "      <td>190248.712618</td>\n",
       "      <td>4</td>\n",
       "    </tr>\n",
       "    <tr>\n",
       "      <th>364828</th>\n",
       "      <td>118798.087221</td>\n",
       "      <td>4</td>\n",
       "    </tr>\n",
       "    <tr>\n",
       "      <th>364829</th>\n",
       "      <td>129512.736967</td>\n",
       "      <td>4</td>\n",
       "    </tr>\n",
       "    <tr>\n",
       "      <th>364830</th>\n",
       "      <td>202574.367594</td>\n",
       "      <td>4</td>\n",
       "    </tr>\n",
       "    <tr>\n",
       "      <th>364831</th>\n",
       "      <td>178438.350688</td>\n",
       "      <td>4</td>\n",
       "    </tr>\n",
       "  </tbody>\n",
       "</table>\n",
       "<p>364832 rows × 2 columns</p>\n",
       "</div>"
      ],
      "text/plain": [
       "         F. Transform  Tag\n",
       "0        18001.000000    1\n",
       "1         2077.438012    1\n",
       "2         4324.447678    1\n",
       "3         7462.545756    1\n",
       "4         8746.229687    1\n",
       "...               ...  ...\n",
       "364827  190248.712618    4\n",
       "364828  118798.087221    4\n",
       "364829  129512.736967    4\n",
       "364830  202574.367594    4\n",
       "364831  178438.350688    4\n",
       "\n",
       "[364832 rows x 2 columns]"
      ]
     },
     "execution_count": 14,
     "metadata": {},
     "output_type": "execute_result"
    }
   ],
   "source": [
    "w = pd.DataFrame(buf_or)\n",
    "x = pd.DataFrame(den_or)\n",
    "y = pd.DataFrame(hyp_or)\n",
    "z = pd.DataFrame(lep_or)\n",
    "\n",
    "totus = pd.concat([w, x, y, z]).reset_index(drop=True)\n",
    "totus"
   ]
  },
  {
   "cell_type": "markdown",
   "metadata": {},
   "source": [
    "## Classifying with get_dummies"
   ]
  },
  {
   "cell_type": "code",
   "execution_count": 19,
   "metadata": {},
   "outputs": [
    {
     "data": {
      "text/html": [
       "<div>\n",
       "<style scoped>\n",
       "    .dataframe tbody tr th:only-of-type {\n",
       "        vertical-align: middle;\n",
       "    }\n",
       "\n",
       "    .dataframe tbody tr th {\n",
       "        vertical-align: top;\n",
       "    }\n",
       "\n",
       "    .dataframe thead th {\n",
       "        text-align: right;\n",
       "    }\n",
       "</style>\n",
       "<table border=\"1\" class=\"dataframe\">\n",
       "  <thead>\n",
       "    <tr style=\"text-align: right;\">\n",
       "      <th></th>\n",
       "      <th>F. Transform</th>\n",
       "      <th>Tag_1</th>\n",
       "      <th>Tag_2</th>\n",
       "      <th>Tag_3</th>\n",
       "      <th>Tag_4</th>\n",
       "    </tr>\n",
       "  </thead>\n",
       "  <tbody>\n",
       "    <tr>\n",
       "      <th>0</th>\n",
       "      <td>18001.000000</td>\n",
       "      <td>1</td>\n",
       "      <td>0</td>\n",
       "      <td>0</td>\n",
       "      <td>0</td>\n",
       "    </tr>\n",
       "    <tr>\n",
       "      <th>1</th>\n",
       "      <td>2077.438012</td>\n",
       "      <td>1</td>\n",
       "      <td>0</td>\n",
       "      <td>0</td>\n",
       "      <td>0</td>\n",
       "    </tr>\n",
       "    <tr>\n",
       "      <th>2</th>\n",
       "      <td>4324.447678</td>\n",
       "      <td>1</td>\n",
       "      <td>0</td>\n",
       "      <td>0</td>\n",
       "      <td>0</td>\n",
       "    </tr>\n",
       "    <tr>\n",
       "      <th>3</th>\n",
       "      <td>7462.545756</td>\n",
       "      <td>1</td>\n",
       "      <td>0</td>\n",
       "      <td>0</td>\n",
       "      <td>0</td>\n",
       "    </tr>\n",
       "    <tr>\n",
       "      <th>4</th>\n",
       "      <td>8746.229687</td>\n",
       "      <td>1</td>\n",
       "      <td>0</td>\n",
       "      <td>0</td>\n",
       "      <td>0</td>\n",
       "    </tr>\n",
       "    <tr>\n",
       "      <th>...</th>\n",
       "      <td>...</td>\n",
       "      <td>...</td>\n",
       "      <td>...</td>\n",
       "      <td>...</td>\n",
       "      <td>...</td>\n",
       "    </tr>\n",
       "    <tr>\n",
       "      <th>364827</th>\n",
       "      <td>190248.712618</td>\n",
       "      <td>0</td>\n",
       "      <td>0</td>\n",
       "      <td>0</td>\n",
       "      <td>1</td>\n",
       "    </tr>\n",
       "    <tr>\n",
       "      <th>364828</th>\n",
       "      <td>118798.087221</td>\n",
       "      <td>0</td>\n",
       "      <td>0</td>\n",
       "      <td>0</td>\n",
       "      <td>1</td>\n",
       "    </tr>\n",
       "    <tr>\n",
       "      <th>364829</th>\n",
       "      <td>129512.736967</td>\n",
       "      <td>0</td>\n",
       "      <td>0</td>\n",
       "      <td>0</td>\n",
       "      <td>1</td>\n",
       "    </tr>\n",
       "    <tr>\n",
       "      <th>364830</th>\n",
       "      <td>202574.367594</td>\n",
       "      <td>0</td>\n",
       "      <td>0</td>\n",
       "      <td>0</td>\n",
       "      <td>1</td>\n",
       "    </tr>\n",
       "    <tr>\n",
       "      <th>364831</th>\n",
       "      <td>178438.350688</td>\n",
       "      <td>0</td>\n",
       "      <td>0</td>\n",
       "      <td>0</td>\n",
       "      <td>1</td>\n",
       "    </tr>\n",
       "  </tbody>\n",
       "</table>\n",
       "<p>364832 rows × 5 columns</p>\n",
       "</div>"
      ],
      "text/plain": [
       "         F. Transform  Tag_1  Tag_2  Tag_3  Tag_4\n",
       "0        18001.000000      1      0      0      0\n",
       "1         2077.438012      1      0      0      0\n",
       "2         4324.447678      1      0      0      0\n",
       "3         7462.545756      1      0      0      0\n",
       "4         8746.229687      1      0      0      0\n",
       "...               ...    ...    ...    ...    ...\n",
       "364827  190248.712618      0      0      0      1\n",
       "364828  118798.087221      0      0      0      1\n",
       "364829  129512.736967      0      0      0      1\n",
       "364830  202574.367594      0      0      0      1\n",
       "364831  178438.350688      0      0      0      1\n",
       "\n",
       "[364832 rows x 5 columns]"
      ]
     },
     "execution_count": 19,
     "metadata": {},
     "output_type": "execute_result"
    }
   ],
   "source": [
    "dum_totus = pd.get_dummies(totus, prefix=['Tag'], columns=['Tag'])\n",
    "dum_totus"
   ]
  },
  {
   "cell_type": "markdown",
   "metadata": {},
   "source": [
    "----"
   ]
  },
  {
   "cell_type": "markdown",
   "metadata": {},
   "source": [
    "---"
   ]
  },
  {
   "cell_type": "markdown",
   "metadata": {},
   "source": [
    "## Exporting the df to csv"
   ]
  },
  {
   "cell_type": "code",
   "execution_count": 29,
   "metadata": {},
   "outputs": [],
   "source": [
    "# totus.to_csv('../output/fam_df.csv')"
   ]
  },
  {
   "cell_type": "code",
   "execution_count": 21,
   "metadata": {},
   "outputs": [],
   "source": [
    "# dum_totus.to_csv('../output/fam_dum_df.csv')"
   ]
  }
 ],
 "metadata": {
  "kernelspec": {
   "display_name": "Python 3",
   "language": "python",
   "name": "python3"
  },
  "language_info": {
   "codemirror_mode": {
    "name": "ipython",
    "version": 3
   },
   "file_extension": ".py",
   "mimetype": "text/x-python",
   "name": "python",
   "nbconvert_exporter": "python",
   "pygments_lexer": "ipython3",
   "version": "3.8.5"
  }
 },
 "nbformat": 4,
 "nbformat_minor": 4
}
