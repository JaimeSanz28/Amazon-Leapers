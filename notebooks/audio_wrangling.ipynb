{
 "cells": [
  {
   "cell_type": "markdown",
   "metadata": {},
   "source": [
    "# AUDIO WRANGLING 🔊"
   ]
  },
  {
   "cell_type": "code",
   "execution_count": 1,
   "metadata": {},
   "outputs": [],
   "source": [
    "import os\n",
    "import sys\n",
    "module_path = os.path.abspath(os.path.join('..'))\n",
    "if module_path not in sys.path:\n",
    "    sys.path.append(module_path)\n",
    "    \n",
    "from pydub.utils import make_chunks\n",
    "from pydub import AudioSegment\n",
    "from scipy.fftpack import fft\n",
    "from pydub.utils import make_chunks\n",
    "import numpy as np\n",
    "import pandas as pd\n",
    "import re\n",
    "import pickle"
   ]
  },
  {
   "cell_type": "markdown",
   "metadata": {},
   "source": [
    "----"
   ]
  },
  {
   "cell_type": "code",
   "execution_count": 2,
   "metadata": {},
   "outputs": [
    {
     "name": "stdout",
     "output_type": "stream",
     "text": [
      "../input/.DS_Store\n",
      "../input/copy.mp3\n",
      "../input/recording_copy.mp3\n",
      "../input/Bufonidae\n",
      "../input/Arthroleptidae\n",
      "../input/recording.mp3\n",
      "../input/Hyperollidae\n",
      "../input/Leptodactylidae\n",
      "../input/Dendrobatidae\n"
     ]
    }
   ],
   "source": [
    "path = \"../input\"\n",
    "for familia in os.listdir(path):\n",
    "    familia = os.path.join(path, familia)\n",
    "    print(familia)"
   ]
  },
  {
   "cell_type": "code",
   "execution_count": 3,
   "metadata": {},
   "outputs": [],
   "source": [
    "def audioSegmentData(direc, chunk_length_ms):\n",
    "    fam = []\n",
    "    path = f\"../input/{direc}\"\n",
    "    for audio in os.listdir(path):\n",
    "        if audio.endswith('.mp3'):\n",
    "            croak = AudioSegment.from_mp3(path+\"/\"+audio)\n",
    "            croak = croak.set_frame_rate(16000)\n",
    "            \n",
    "            croak_chunks = make_chunks(croak, chunk_length_ms)\n",
    "            fam.append(croak_chunks)\n",
    "    return fam"
   ]
  },
  {
   "cell_type": "markdown",
   "metadata": {},
   "source": [
    "---"
   ]
  },
  {
   "cell_type": "markdown",
   "metadata": {},
   "source": [
    "## Segmenting Recordings"
   ]
  },
  {
   "cell_type": "code",
   "execution_count": 4,
   "metadata": {},
   "outputs": [
    {
     "data": {
      "text/plain": [
       "444"
      ]
     },
     "execution_count": 4,
     "metadata": {},
     "output_type": "execute_result"
    }
   ],
   "source": [
    "buf = audioSegmentData(\"Bufonidae\", 5000)\n",
    "buf = [x for e in buf for x in e]\n",
    "len(buf)"
   ]
  },
  {
   "cell_type": "code",
   "execution_count": 5,
   "metadata": {},
   "outputs": [],
   "source": [
    "den = audioSegmentData(\"Dendrobatidae\", 5000)\n",
    "den = [x for e in den for x in e]"
   ]
  },
  {
   "cell_type": "code",
   "execution_count": 6,
   "metadata": {},
   "outputs": [],
   "source": [
    "hyp = audioSegmentData(\"Hyperollidae\", 5000)\n",
    "hyp = [x for e in hyp for x in e]"
   ]
  },
  {
   "cell_type": "code",
   "execution_count": 7,
   "metadata": {},
   "outputs": [],
   "source": [
    "lep = audioSegmentData(\"Leptodactylidae\", 5000)\n",
    "lep = [x for e in lep for x in e]"
   ]
  },
  {
   "cell_type": "markdown",
   "metadata": {},
   "source": [
    "-------"
   ]
  },
  {
   "cell_type": "markdown",
   "metadata": {},
   "source": [
    "------"
   ]
  },
  {
   "cell_type": "markdown",
   "metadata": {},
   "source": [
    "## Extracting Fourier Features"
   ]
  },
  {
   "cell_type": "code",
   "execution_count": 8,
   "metadata": {},
   "outputs": [],
   "source": [
    "def audioFeaturesFourier(aud):\n",
    "    arr = aud.get_array_of_samples()[:5120]\n",
    "    abs_four = np.abs(fft(arr))\n",
    "    return abs_four"
   ]
  },
  {
   "cell_type": "code",
   "execution_count": 9,
   "metadata": {},
   "outputs": [
    {
     "data": {
      "text/plain": [
       "444"
      ]
     },
     "execution_count": 9,
     "metadata": {},
     "output_type": "execute_result"
    }
   ],
   "source": [
    "bufFF = [audioFeaturesFourier(chunk) for chunk in buf]\n",
    "len(bufFF)"
   ]
  },
  {
   "cell_type": "code",
   "execution_count": 10,
   "metadata": {},
   "outputs": [
    {
     "data": {
      "text/plain": [
       "349"
      ]
     },
     "execution_count": 10,
     "metadata": {},
     "output_type": "execute_result"
    }
   ],
   "source": [
    "denFF = [audioFeaturesFourier(chunk) for chunk in den]\n",
    "len(denFF)"
   ]
  },
  {
   "cell_type": "code",
   "execution_count": 11,
   "metadata": {},
   "outputs": [
    {
     "data": {
      "text/plain": [
       "275"
      ]
     },
     "execution_count": 11,
     "metadata": {},
     "output_type": "execute_result"
    }
   ],
   "source": [
    "hypFF = [audioFeaturesFourier(chunk) for chunk in hyp]\n",
    "len(hypFF)"
   ]
  },
  {
   "cell_type": "code",
   "execution_count": 12,
   "metadata": {},
   "outputs": [
    {
     "data": {
      "text/plain": [
       "380"
      ]
     },
     "execution_count": 12,
     "metadata": {},
     "output_type": "execute_result"
    }
   ],
   "source": [
    "lepFF = [audioFeaturesFourier(chunk) for chunk in lep]\n",
    "len(lepFF)"
   ]
  },
  {
   "cell_type": "markdown",
   "metadata": {},
   "source": [
    "### All vectors must have the same length, the shortest of them all is 5120."
   ]
  },
  {
   "cell_type": "code",
   "execution_count": 13,
   "metadata": {},
   "outputs": [
    {
     "name": "stdout",
     "output_type": "stream",
     "text": [
      "5120\n",
      "5120\n"
     ]
    }
   ],
   "source": [
    "x = [len(e) for e in denFF]\n",
    "print(min(x))\n",
    "print(max(x))"
   ]
  },
  {
   "cell_type": "markdown",
   "metadata": {},
   "source": [
    "-----"
   ]
  },
  {
   "cell_type": "markdown",
   "metadata": {},
   "source": [
    "----"
   ]
  },
  {
   "cell_type": "markdown",
   "metadata": {},
   "source": [
    "## Calculating the Average Value of each MFCC Coefficient"
   ]
  },
  {
   "cell_type": "markdown",
   "metadata": {},
   "source": [
    "### Mel-Frequency Cepstral Coefficients"
   ]
  },
  {
   "cell_type": "code",
   "execution_count": 14,
   "metadata": {},
   "outputs": [],
   "source": [
    "from librosa.feature import mfcc"
   ]
  },
  {
   "cell_type": "code",
   "execution_count": 21,
   "metadata": {},
   "outputs": [],
   "source": [
    "def mfccCoefficients(arr):\n",
    "    mfcC = mfcc(y=np.array(arr).astype('float64'),sr=len(sample), n_mfcc=256)\n",
    "    return np.mean(mfccC, axis=1)"
   ]
  },
  {
   "cell_type": "code",
   "execution_count": null,
   "metadata": {},
   "outputs": [],
   "source": [
    "bufccC = mfccCoefficients(buf)\n",
    "bufccC"
   ]
  },
  {
   "cell_type": "code",
   "execution_count": null,
   "metadata": {},
   "outputs": [],
   "source": [
    "denccC = mfccCoefficients(den)\n",
    "denccC"
   ]
  },
  {
   "cell_type": "code",
   "execution_count": null,
   "metadata": {},
   "outputs": [],
   "source": [
    "hypccC = mfccCoefficients(hyp)\n",
    "hypccC"
   ]
  },
  {
   "cell_type": "code",
   "execution_count": null,
   "metadata": {},
   "outputs": [],
   "source": [
    "lepccC = mfccCoefficients(lep)\n",
    "lepccC"
   ]
  },
  {
   "cell_type": "markdown",
   "metadata": {},
   "source": [
    "---"
   ]
  },
  {
   "cell_type": "markdown",
   "metadata": {},
   "source": [
    "## Visualizing the MFCC Series"
   ]
  },
  {
   "cell_type": "code",
   "execution_count": null,
   "metadata": {},
   "outputs": [],
   "source": [
    "with plt.xkcd():\n",
    "    f, ax = plt.subplots(1,4, figsize = (15,4))\n",
    "    librosa.display.specshow(mfccs, x_axis='time')\n",
    "    plt.colorbar()\n",
    "    plt.title('MFCC')\n",
    "    plt.tight_layout()"
   ]
  },
  {
   "cell_type": "code",
   "execution_count": null,
   "metadata": {},
   "outputs": [],
   "source": [
    "with plt.xkcd():\n",
    "    f, ax = plt.subplots(1,4, figsize = (15,4))\n",
    "    librosa.display.specshow(mfccsB, ax = ax[0])\n",
    "    librosa.display.specshow(mfccsD, ax = ax[1])\n",
    "    librosa.display.specshow(mfccsH, ax = ax[2])\n",
    "    librosa.display.specshow(mfccsL, ax = ax[3])\n",
    "    \n",
    "    sns.countplot(train_dum['Tag_2'], ax = ax[1])"
   ]
  },
  {
   "cell_type": "markdown",
   "metadata": {},
   "source": [
    "---"
   ]
  },
  {
   "cell_type": "markdown",
   "metadata": {},
   "source": [
    "---"
   ]
  },
  {
   "cell_type": "markdown",
   "metadata": {},
   "source": [
    "## Creating *Familia* Dataframes"
   ]
  },
  {
   "cell_type": "code",
   "execution_count": 14,
   "metadata": {},
   "outputs": [],
   "source": [
    "buf_or = {\"F.Transform\": [a for a in bufFF], \"Tag\": 1}\n",
    "den_or = {\"F.Transform\": [a for a in denFF], \"Tag\": 2}\n",
    "hyp_or = {\"F.Transform\": [a for a in hypFF], \"Tag\": 3}\n",
    "lep_or = {\"F.Transform\": [a for a in lepFF], \"Tag\": 4}"
   ]
  },
  {
   "cell_type": "code",
   "execution_count": 16,
   "metadata": {},
   "outputs": [
    {
     "data": {
      "text/html": [
       "<div>\n",
       "<style scoped>\n",
       "    .dataframe tbody tr th:only-of-type {\n",
       "        vertical-align: middle;\n",
       "    }\n",
       "\n",
       "    .dataframe tbody tr th {\n",
       "        vertical-align: top;\n",
       "    }\n",
       "\n",
       "    .dataframe thead th {\n",
       "        text-align: right;\n",
       "    }\n",
       "</style>\n",
       "<table border=\"1\" class=\"dataframe\">\n",
       "  <thead>\n",
       "    <tr style=\"text-align: right;\">\n",
       "      <th></th>\n",
       "      <th>F.Transform</th>\n",
       "      <th>Tag</th>\n",
       "    </tr>\n",
       "  </thead>\n",
       "  <tbody>\n",
       "    <tr>\n",
       "      <th>0</th>\n",
       "      <td>[214.0, 1468.2663139035296, 1354.9901292253478...</td>\n",
       "      <td>1</td>\n",
       "    </tr>\n",
       "    <tr>\n",
       "      <th>1</th>\n",
       "      <td>[2884.0, 28338.15576414532, 62698.33809773314,...</td>\n",
       "      <td>1</td>\n",
       "    </tr>\n",
       "    <tr>\n",
       "      <th>2</th>\n",
       "      <td>[231582.0, 274082.53149146156, 349585.41389145...</td>\n",
       "      <td>1</td>\n",
       "    </tr>\n",
       "    <tr>\n",
       "      <th>3</th>\n",
       "      <td>[79700.0, 102571.46322235715, 153200.915277075...</td>\n",
       "      <td>1</td>\n",
       "    </tr>\n",
       "    <tr>\n",
       "      <th>4</th>\n",
       "      <td>[63870.0, 52903.555252298946, 141644.395098856...</td>\n",
       "      <td>1</td>\n",
       "    </tr>\n",
       "    <tr>\n",
       "      <th>...</th>\n",
       "      <td>...</td>\n",
       "      <td>...</td>\n",
       "    </tr>\n",
       "    <tr>\n",
       "      <th>1443</th>\n",
       "      <td>[583.0, 15302.869133939248, 8141.018024000418,...</td>\n",
       "      <td>4</td>\n",
       "    </tr>\n",
       "    <tr>\n",
       "      <th>1444</th>\n",
       "      <td>[7528.0, 36567.48880158042, 32709.202174082795...</td>\n",
       "      <td>4</td>\n",
       "    </tr>\n",
       "    <tr>\n",
       "      <th>1445</th>\n",
       "      <td>[57975.0, 49892.81312863944, 28033.09150727976...</td>\n",
       "      <td>4</td>\n",
       "    </tr>\n",
       "    <tr>\n",
       "      <th>1446</th>\n",
       "      <td>[11773.0, 12848.633686627703, 17174.7713207563...</td>\n",
       "      <td>4</td>\n",
       "    </tr>\n",
       "    <tr>\n",
       "      <th>1447</th>\n",
       "      <td>[9477.0, 7174.07567038514, 14996.304654811245,...</td>\n",
       "      <td>4</td>\n",
       "    </tr>\n",
       "  </tbody>\n",
       "</table>\n",
       "<p>1448 rows × 2 columns</p>\n",
       "</div>"
      ],
      "text/plain": [
       "                                            F.Transform  Tag\n",
       "0     [214.0, 1468.2663139035296, 1354.9901292253478...    1\n",
       "1     [2884.0, 28338.15576414532, 62698.33809773314,...    1\n",
       "2     [231582.0, 274082.53149146156, 349585.41389145...    1\n",
       "3     [79700.0, 102571.46322235715, 153200.915277075...    1\n",
       "4     [63870.0, 52903.555252298946, 141644.395098856...    1\n",
       "...                                                 ...  ...\n",
       "1443  [583.0, 15302.869133939248, 8141.018024000418,...    4\n",
       "1444  [7528.0, 36567.48880158042, 32709.202174082795...    4\n",
       "1445  [57975.0, 49892.81312863944, 28033.09150727976...    4\n",
       "1446  [11773.0, 12848.633686627703, 17174.7713207563...    4\n",
       "1447  [9477.0, 7174.07567038514, 14996.304654811245,...    4\n",
       "\n",
       "[1448 rows x 2 columns]"
      ]
     },
     "execution_count": 16,
     "metadata": {},
     "output_type": "execute_result"
    }
   ],
   "source": [
    "w = pd.DataFrame(buf_or)\n",
    "x = pd.DataFrame(den_or)\n",
    "h = pd.DataFrame(hyp_or)\n",
    "z = pd.DataFrame(lep_or)\n",
    "\n",
    "totus = pd.concat([w, x, h, z]).reset_index(drop=True)\n",
    "totus"
   ]
  },
  {
   "cell_type": "code",
   "execution_count": 22,
   "metadata": {},
   "outputs": [],
   "source": [
    "# w.to_pickle('../output/fam_df_buf.csv')"
   ]
  },
  {
   "cell_type": "code",
   "execution_count": 23,
   "metadata": {},
   "outputs": [],
   "source": [
    "# x.to_pickle('../output/fam_df_den.csv')"
   ]
  },
  {
   "cell_type": "code",
   "execution_count": 17,
   "metadata": {},
   "outputs": [],
   "source": [
    "# h.to_pickle('../output/fam_df_hyp.csv')"
   ]
  },
  {
   "cell_type": "code",
   "execution_count": 25,
   "metadata": {},
   "outputs": [],
   "source": [
    "# z.to_pickle('../output/fam_df_lep.csv')"
   ]
  },
  {
   "cell_type": "code",
   "execution_count": null,
   "metadata": {},
   "outputs": [],
   "source": [
    "# totus.to_pickle('../output/fam_df.csv')"
   ]
  },
  {
   "cell_type": "markdown",
   "metadata": {},
   "source": [
    "## Classifying with get_dummies"
   ]
  },
  {
   "cell_type": "code",
   "execution_count": 19,
   "metadata": {},
   "outputs": [
    {
     "data": {
      "text/html": [
       "<div>\n",
       "<style scoped>\n",
       "    .dataframe tbody tr th:only-of-type {\n",
       "        vertical-align: middle;\n",
       "    }\n",
       "\n",
       "    .dataframe tbody tr th {\n",
       "        vertical-align: top;\n",
       "    }\n",
       "\n",
       "    .dataframe thead th {\n",
       "        text-align: right;\n",
       "    }\n",
       "</style>\n",
       "<table border=\"1\" class=\"dataframe\">\n",
       "  <thead>\n",
       "    <tr style=\"text-align: right;\">\n",
       "      <th></th>\n",
       "      <th>F. Transform</th>\n",
       "      <th>Tag_1</th>\n",
       "      <th>Tag_2</th>\n",
       "      <th>Tag_3</th>\n",
       "      <th>Tag_4</th>\n",
       "    </tr>\n",
       "  </thead>\n",
       "  <tbody>\n",
       "    <tr>\n",
       "      <th>0</th>\n",
       "      <td>18001.000000</td>\n",
       "      <td>1</td>\n",
       "      <td>0</td>\n",
       "      <td>0</td>\n",
       "      <td>0</td>\n",
       "    </tr>\n",
       "    <tr>\n",
       "      <th>1</th>\n",
       "      <td>2077.438012</td>\n",
       "      <td>1</td>\n",
       "      <td>0</td>\n",
       "      <td>0</td>\n",
       "      <td>0</td>\n",
       "    </tr>\n",
       "    <tr>\n",
       "      <th>2</th>\n",
       "      <td>4324.447678</td>\n",
       "      <td>1</td>\n",
       "      <td>0</td>\n",
       "      <td>0</td>\n",
       "      <td>0</td>\n",
       "    </tr>\n",
       "    <tr>\n",
       "      <th>3</th>\n",
       "      <td>7462.545756</td>\n",
       "      <td>1</td>\n",
       "      <td>0</td>\n",
       "      <td>0</td>\n",
       "      <td>0</td>\n",
       "    </tr>\n",
       "    <tr>\n",
       "      <th>4</th>\n",
       "      <td>8746.229687</td>\n",
       "      <td>1</td>\n",
       "      <td>0</td>\n",
       "      <td>0</td>\n",
       "      <td>0</td>\n",
       "    </tr>\n",
       "    <tr>\n",
       "      <th>...</th>\n",
       "      <td>...</td>\n",
       "      <td>...</td>\n",
       "      <td>...</td>\n",
       "      <td>...</td>\n",
       "      <td>...</td>\n",
       "    </tr>\n",
       "    <tr>\n",
       "      <th>364827</th>\n",
       "      <td>190248.712618</td>\n",
       "      <td>0</td>\n",
       "      <td>0</td>\n",
       "      <td>0</td>\n",
       "      <td>1</td>\n",
       "    </tr>\n",
       "    <tr>\n",
       "      <th>364828</th>\n",
       "      <td>118798.087221</td>\n",
       "      <td>0</td>\n",
       "      <td>0</td>\n",
       "      <td>0</td>\n",
       "      <td>1</td>\n",
       "    </tr>\n",
       "    <tr>\n",
       "      <th>364829</th>\n",
       "      <td>129512.736967</td>\n",
       "      <td>0</td>\n",
       "      <td>0</td>\n",
       "      <td>0</td>\n",
       "      <td>1</td>\n",
       "    </tr>\n",
       "    <tr>\n",
       "      <th>364830</th>\n",
       "      <td>202574.367594</td>\n",
       "      <td>0</td>\n",
       "      <td>0</td>\n",
       "      <td>0</td>\n",
       "      <td>1</td>\n",
       "    </tr>\n",
       "    <tr>\n",
       "      <th>364831</th>\n",
       "      <td>178438.350688</td>\n",
       "      <td>0</td>\n",
       "      <td>0</td>\n",
       "      <td>0</td>\n",
       "      <td>1</td>\n",
       "    </tr>\n",
       "  </tbody>\n",
       "</table>\n",
       "<p>364832 rows × 5 columns</p>\n",
       "</div>"
      ],
      "text/plain": [
       "         F. Transform  Tag_1  Tag_2  Tag_3  Tag_4\n",
       "0        18001.000000      1      0      0      0\n",
       "1         2077.438012      1      0      0      0\n",
       "2         4324.447678      1      0      0      0\n",
       "3         7462.545756      1      0      0      0\n",
       "4         8746.229687      1      0      0      0\n",
       "...               ...    ...    ...    ...    ...\n",
       "364827  190248.712618      0      0      0      1\n",
       "364828  118798.087221      0      0      0      1\n",
       "364829  129512.736967      0      0      0      1\n",
       "364830  202574.367594      0      0      0      1\n",
       "364831  178438.350688      0      0      0      1\n",
       "\n",
       "[364832 rows x 5 columns]"
      ]
     },
     "execution_count": 19,
     "metadata": {},
     "output_type": "execute_result"
    }
   ],
   "source": [
    "dum_totus = pd.get_dummies(totus, prefix=['Tag'], columns=['Tag'])\n",
    "dum_totus"
   ]
  },
  {
   "cell_type": "markdown",
   "metadata": {},
   "source": [
    "----"
   ]
  },
  {
   "cell_type": "markdown",
   "metadata": {},
   "source": [
    "---"
   ]
  },
  {
   "cell_type": "markdown",
   "metadata": {},
   "source": [
    "## Exporting the df to csv"
   ]
  },
  {
   "cell_type": "code",
   "execution_count": 59,
   "metadata": {},
   "outputs": [],
   "source": [
    "# dum_totus.to_csv('../output/fam_dum_df.csv')"
   ]
  }
 ],
 "metadata": {
  "kernelspec": {
   "display_name": "Python 3",
   "language": "python",
   "name": "python3"
  },
  "language_info": {
   "codemirror_mode": {
    "name": "ipython",
    "version": 3
   },
   "file_extension": ".py",
   "mimetype": "text/x-python",
   "name": "python",
   "nbconvert_exporter": "python",
   "pygments_lexer": "ipython3",
   "version": "3.8.5"
  }
 },
 "nbformat": 4,
 "nbformat_minor": 4
}
